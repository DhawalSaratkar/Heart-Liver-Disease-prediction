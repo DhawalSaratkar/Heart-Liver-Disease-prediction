{
 "cells": [
  {
   "cell_type": "code",
   "execution_count": 1,
   "id": "4ba53429",
   "metadata": {
    "executionInfo": {
     "elapsed": 445,
     "status": "ok",
     "timestamp": 1702536461246,
     "user": {
      "displayName": "Viraj Thak",
      "userId": "05114723283592777529"
     },
     "user_tz": -330
    },
    "id": "6aba7d13"
   },
   "outputs": [],
   "source": [
    "import numpy as np\n",
    "import pandas as pd\n",
    "import matplotlib as mpl\n",
    "import matplotlib.pyplot as plt\n",
    "%matplotlib inline\n",
    "import seaborn as sns\n",
    "import warnings\n",
    "warnings.filterwarnings('ignore')"
   ]
  },
  {
   "cell_type": "code",
   "execution_count": 2,
   "id": "b9e29159",
   "metadata": {
    "executionInfo": {
     "elapsed": 792,
     "status": "ok",
     "timestamp": 1702536466402,
     "user": {
      "displayName": "Viraj Thak",
      "userId": "05114723283592777529"
     },
     "user_tz": -330
    },
    "id": "b12d1159"
   },
   "outputs": [],
   "source": [
    "df = pd.read_csv('D:\\Final yr project\\Datasets\\heart_disease_health_indicators_BRFSS2015.csv')"
   ]
  },
  {
   "cell_type": "code",
   "execution_count": 3,
   "id": "9a7b8744",
   "metadata": {
    "colab": {
     "base_uri": "https://localhost:8080/",
     "height": 255
    },
    "executionInfo": {
     "elapsed": 27,
     "status": "ok",
     "timestamp": 1702536466402,
     "user": {
      "displayName": "Viraj Thak",
      "userId": "05114723283592777529"
     },
     "user_tz": -330
    },
    "id": "2f5e1d31",
    "outputId": "814f45e9-98f6-4129-a42c-408c8183d44d"
   },
   "outputs": [
    {
     "data": {
      "text/html": [
       "<div>\n",
       "<style scoped>\n",
       "    .dataframe tbody tr th:only-of-type {\n",
       "        vertical-align: middle;\n",
       "    }\n",
       "\n",
       "    .dataframe tbody tr th {\n",
       "        vertical-align: top;\n",
       "    }\n",
       "\n",
       "    .dataframe thead th {\n",
       "        text-align: right;\n",
       "    }\n",
       "</style>\n",
       "<table border=\"1\" class=\"dataframe\">\n",
       "  <thead>\n",
       "    <tr style=\"text-align: right;\">\n",
       "      <th></th>\n",
       "      <th>HeartDiseaseorAttack</th>\n",
       "      <th>HighBP</th>\n",
       "      <th>HighChol</th>\n",
       "      <th>CholCheck</th>\n",
       "      <th>BMI</th>\n",
       "      <th>Smoker</th>\n",
       "      <th>Stroke</th>\n",
       "      <th>Diabetes</th>\n",
       "      <th>PhysActivity</th>\n",
       "      <th>Fruits</th>\n",
       "      <th>...</th>\n",
       "      <th>AnyHealthcare</th>\n",
       "      <th>NoDocbcCost</th>\n",
       "      <th>GenHlth</th>\n",
       "      <th>MentHlth</th>\n",
       "      <th>PhysHlth</th>\n",
       "      <th>DiffWalk</th>\n",
       "      <th>Sex</th>\n",
       "      <th>Age</th>\n",
       "      <th>Education</th>\n",
       "      <th>Income</th>\n",
       "    </tr>\n",
       "  </thead>\n",
       "  <tbody>\n",
       "    <tr>\n",
       "      <th>0</th>\n",
       "      <td>0.0</td>\n",
       "      <td>1.0</td>\n",
       "      <td>1.0</td>\n",
       "      <td>1.0</td>\n",
       "      <td>40.0</td>\n",
       "      <td>1.0</td>\n",
       "      <td>0.0</td>\n",
       "      <td>0.0</td>\n",
       "      <td>0.0</td>\n",
       "      <td>0.0</td>\n",
       "      <td>...</td>\n",
       "      <td>1.0</td>\n",
       "      <td>0.0</td>\n",
       "      <td>5.0</td>\n",
       "      <td>18.0</td>\n",
       "      <td>15.0</td>\n",
       "      <td>1.0</td>\n",
       "      <td>0.0</td>\n",
       "      <td>9.0</td>\n",
       "      <td>4.0</td>\n",
       "      <td>3.0</td>\n",
       "    </tr>\n",
       "    <tr>\n",
       "      <th>1</th>\n",
       "      <td>0.0</td>\n",
       "      <td>0.0</td>\n",
       "      <td>0.0</td>\n",
       "      <td>0.0</td>\n",
       "      <td>25.0</td>\n",
       "      <td>1.0</td>\n",
       "      <td>0.0</td>\n",
       "      <td>0.0</td>\n",
       "      <td>1.0</td>\n",
       "      <td>0.0</td>\n",
       "      <td>...</td>\n",
       "      <td>0.0</td>\n",
       "      <td>1.0</td>\n",
       "      <td>3.0</td>\n",
       "      <td>0.0</td>\n",
       "      <td>0.0</td>\n",
       "      <td>0.0</td>\n",
       "      <td>0.0</td>\n",
       "      <td>7.0</td>\n",
       "      <td>6.0</td>\n",
       "      <td>1.0</td>\n",
       "    </tr>\n",
       "    <tr>\n",
       "      <th>2</th>\n",
       "      <td>0.0</td>\n",
       "      <td>1.0</td>\n",
       "      <td>1.0</td>\n",
       "      <td>1.0</td>\n",
       "      <td>28.0</td>\n",
       "      <td>0.0</td>\n",
       "      <td>0.0</td>\n",
       "      <td>0.0</td>\n",
       "      <td>0.0</td>\n",
       "      <td>1.0</td>\n",
       "      <td>...</td>\n",
       "      <td>1.0</td>\n",
       "      <td>1.0</td>\n",
       "      <td>5.0</td>\n",
       "      <td>30.0</td>\n",
       "      <td>30.0</td>\n",
       "      <td>1.0</td>\n",
       "      <td>0.0</td>\n",
       "      <td>9.0</td>\n",
       "      <td>4.0</td>\n",
       "      <td>8.0</td>\n",
       "    </tr>\n",
       "    <tr>\n",
       "      <th>3</th>\n",
       "      <td>0.0</td>\n",
       "      <td>1.0</td>\n",
       "      <td>0.0</td>\n",
       "      <td>1.0</td>\n",
       "      <td>27.0</td>\n",
       "      <td>0.0</td>\n",
       "      <td>0.0</td>\n",
       "      <td>0.0</td>\n",
       "      <td>1.0</td>\n",
       "      <td>1.0</td>\n",
       "      <td>...</td>\n",
       "      <td>1.0</td>\n",
       "      <td>0.0</td>\n",
       "      <td>2.0</td>\n",
       "      <td>0.0</td>\n",
       "      <td>0.0</td>\n",
       "      <td>0.0</td>\n",
       "      <td>0.0</td>\n",
       "      <td>11.0</td>\n",
       "      <td>3.0</td>\n",
       "      <td>6.0</td>\n",
       "    </tr>\n",
       "    <tr>\n",
       "      <th>4</th>\n",
       "      <td>0.0</td>\n",
       "      <td>1.0</td>\n",
       "      <td>1.0</td>\n",
       "      <td>1.0</td>\n",
       "      <td>24.0</td>\n",
       "      <td>0.0</td>\n",
       "      <td>0.0</td>\n",
       "      <td>0.0</td>\n",
       "      <td>1.0</td>\n",
       "      <td>1.0</td>\n",
       "      <td>...</td>\n",
       "      <td>1.0</td>\n",
       "      <td>0.0</td>\n",
       "      <td>2.0</td>\n",
       "      <td>3.0</td>\n",
       "      <td>0.0</td>\n",
       "      <td>0.0</td>\n",
       "      <td>0.0</td>\n",
       "      <td>11.0</td>\n",
       "      <td>5.0</td>\n",
       "      <td>4.0</td>\n",
       "    </tr>\n",
       "  </tbody>\n",
       "</table>\n",
       "<p>5 rows × 22 columns</p>\n",
       "</div>"
      ],
      "text/plain": [
       "   HeartDiseaseorAttack  HighBP  HighChol  CholCheck   BMI  Smoker  Stroke  \\\n",
       "0                   0.0     1.0       1.0        1.0  40.0     1.0     0.0   \n",
       "1                   0.0     0.0       0.0        0.0  25.0     1.0     0.0   \n",
       "2                   0.0     1.0       1.0        1.0  28.0     0.0     0.0   \n",
       "3                   0.0     1.0       0.0        1.0  27.0     0.0     0.0   \n",
       "4                   0.0     1.0       1.0        1.0  24.0     0.0     0.0   \n",
       "\n",
       "   Diabetes  PhysActivity  Fruits  ...  AnyHealthcare  NoDocbcCost  GenHlth  \\\n",
       "0       0.0           0.0     0.0  ...            1.0          0.0      5.0   \n",
       "1       0.0           1.0     0.0  ...            0.0          1.0      3.0   \n",
       "2       0.0           0.0     1.0  ...            1.0          1.0      5.0   \n",
       "3       0.0           1.0     1.0  ...            1.0          0.0      2.0   \n",
       "4       0.0           1.0     1.0  ...            1.0          0.0      2.0   \n",
       "\n",
       "   MentHlth  PhysHlth  DiffWalk  Sex   Age  Education  Income  \n",
       "0      18.0      15.0       1.0  0.0   9.0        4.0     3.0  \n",
       "1       0.0       0.0       0.0  0.0   7.0        6.0     1.0  \n",
       "2      30.0      30.0       1.0  0.0   9.0        4.0     8.0  \n",
       "3       0.0       0.0       0.0  0.0  11.0        3.0     6.0  \n",
       "4       3.0       0.0       0.0  0.0  11.0        5.0     4.0  \n",
       "\n",
       "[5 rows x 22 columns]"
      ]
     },
     "execution_count": 3,
     "metadata": {},
     "output_type": "execute_result"
    }
   ],
   "source": [
    "df.head()"
   ]
  },
  {
   "cell_type": "code",
   "execution_count": 4,
   "id": "dfb786f6",
   "metadata": {
    "colab": {
     "base_uri": "https://localhost:8080/",
     "height": 255
    },
    "executionInfo": {
     "elapsed": 25,
     "status": "ok",
     "timestamp": 1702536466402,
     "user": {
      "displayName": "Viraj Thak",
      "userId": "05114723283592777529"
     },
     "user_tz": -330
    },
    "id": "5e6a60c9",
    "outputId": "c3c62f99-575f-4445-ef34-b6ada95f6196"
   },
   "outputs": [
    {
     "data": {
      "text/html": [
       "<div>\n",
       "<style scoped>\n",
       "    .dataframe tbody tr th:only-of-type {\n",
       "        vertical-align: middle;\n",
       "    }\n",
       "\n",
       "    .dataframe tbody tr th {\n",
       "        vertical-align: top;\n",
       "    }\n",
       "\n",
       "    .dataframe thead th {\n",
       "        text-align: right;\n",
       "    }\n",
       "</style>\n",
       "<table border=\"1\" class=\"dataframe\">\n",
       "  <thead>\n",
       "    <tr style=\"text-align: right;\">\n",
       "      <th></th>\n",
       "      <th>HeartDiseaseorAttack</th>\n",
       "      <th>HighBP</th>\n",
       "      <th>HighChol</th>\n",
       "      <th>CholCheck</th>\n",
       "      <th>BMI</th>\n",
       "      <th>Smoker</th>\n",
       "      <th>Stroke</th>\n",
       "      <th>Diabetes</th>\n",
       "      <th>PhysActivity</th>\n",
       "      <th>Fruits</th>\n",
       "      <th>...</th>\n",
       "      <th>AnyHealthcare</th>\n",
       "      <th>NoDocbcCost</th>\n",
       "      <th>GenHlth</th>\n",
       "      <th>MentHlth</th>\n",
       "      <th>PhysHlth</th>\n",
       "      <th>DiffWalk</th>\n",
       "      <th>Sex</th>\n",
       "      <th>Age</th>\n",
       "      <th>Education</th>\n",
       "      <th>Income</th>\n",
       "    </tr>\n",
       "  </thead>\n",
       "  <tbody>\n",
       "    <tr>\n",
       "      <th>253675</th>\n",
       "      <td>0.0</td>\n",
       "      <td>1.0</td>\n",
       "      <td>1.0</td>\n",
       "      <td>1.0</td>\n",
       "      <td>45.0</td>\n",
       "      <td>0.0</td>\n",
       "      <td>0.0</td>\n",
       "      <td>0.0</td>\n",
       "      <td>0.0</td>\n",
       "      <td>1.0</td>\n",
       "      <td>...</td>\n",
       "      <td>1.0</td>\n",
       "      <td>0.0</td>\n",
       "      <td>3.0</td>\n",
       "      <td>0.0</td>\n",
       "      <td>5.0</td>\n",
       "      <td>0.0</td>\n",
       "      <td>1.0</td>\n",
       "      <td>5.0</td>\n",
       "      <td>6.0</td>\n",
       "      <td>7.0</td>\n",
       "    </tr>\n",
       "    <tr>\n",
       "      <th>253676</th>\n",
       "      <td>0.0</td>\n",
       "      <td>1.0</td>\n",
       "      <td>1.0</td>\n",
       "      <td>1.0</td>\n",
       "      <td>18.0</td>\n",
       "      <td>0.0</td>\n",
       "      <td>0.0</td>\n",
       "      <td>2.0</td>\n",
       "      <td>0.0</td>\n",
       "      <td>0.0</td>\n",
       "      <td>...</td>\n",
       "      <td>1.0</td>\n",
       "      <td>0.0</td>\n",
       "      <td>4.0</td>\n",
       "      <td>0.0</td>\n",
       "      <td>0.0</td>\n",
       "      <td>1.0</td>\n",
       "      <td>0.0</td>\n",
       "      <td>11.0</td>\n",
       "      <td>2.0</td>\n",
       "      <td>4.0</td>\n",
       "    </tr>\n",
       "    <tr>\n",
       "      <th>253677</th>\n",
       "      <td>0.0</td>\n",
       "      <td>0.0</td>\n",
       "      <td>0.0</td>\n",
       "      <td>1.0</td>\n",
       "      <td>28.0</td>\n",
       "      <td>0.0</td>\n",
       "      <td>0.0</td>\n",
       "      <td>0.0</td>\n",
       "      <td>1.0</td>\n",
       "      <td>1.0</td>\n",
       "      <td>...</td>\n",
       "      <td>1.0</td>\n",
       "      <td>0.0</td>\n",
       "      <td>1.0</td>\n",
       "      <td>0.0</td>\n",
       "      <td>0.0</td>\n",
       "      <td>0.0</td>\n",
       "      <td>0.0</td>\n",
       "      <td>2.0</td>\n",
       "      <td>5.0</td>\n",
       "      <td>2.0</td>\n",
       "    </tr>\n",
       "    <tr>\n",
       "      <th>253678</th>\n",
       "      <td>0.0</td>\n",
       "      <td>1.0</td>\n",
       "      <td>0.0</td>\n",
       "      <td>1.0</td>\n",
       "      <td>23.0</td>\n",
       "      <td>0.0</td>\n",
       "      <td>0.0</td>\n",
       "      <td>0.0</td>\n",
       "      <td>0.0</td>\n",
       "      <td>1.0</td>\n",
       "      <td>...</td>\n",
       "      <td>1.0</td>\n",
       "      <td>0.0</td>\n",
       "      <td>3.0</td>\n",
       "      <td>0.0</td>\n",
       "      <td>0.0</td>\n",
       "      <td>0.0</td>\n",
       "      <td>1.0</td>\n",
       "      <td>7.0</td>\n",
       "      <td>5.0</td>\n",
       "      <td>1.0</td>\n",
       "    </tr>\n",
       "    <tr>\n",
       "      <th>253679</th>\n",
       "      <td>1.0</td>\n",
       "      <td>1.0</td>\n",
       "      <td>1.0</td>\n",
       "      <td>1.0</td>\n",
       "      <td>25.0</td>\n",
       "      <td>0.0</td>\n",
       "      <td>0.0</td>\n",
       "      <td>2.0</td>\n",
       "      <td>1.0</td>\n",
       "      <td>1.0</td>\n",
       "      <td>...</td>\n",
       "      <td>1.0</td>\n",
       "      <td>0.0</td>\n",
       "      <td>2.0</td>\n",
       "      <td>0.0</td>\n",
       "      <td>0.0</td>\n",
       "      <td>0.0</td>\n",
       "      <td>0.0</td>\n",
       "      <td>9.0</td>\n",
       "      <td>6.0</td>\n",
       "      <td>2.0</td>\n",
       "    </tr>\n",
       "  </tbody>\n",
       "</table>\n",
       "<p>5 rows × 22 columns</p>\n",
       "</div>"
      ],
      "text/plain": [
       "        HeartDiseaseorAttack  HighBP  HighChol  CholCheck   BMI  Smoker  \\\n",
       "253675                   0.0     1.0       1.0        1.0  45.0     0.0   \n",
       "253676                   0.0     1.0       1.0        1.0  18.0     0.0   \n",
       "253677                   0.0     0.0       0.0        1.0  28.0     0.0   \n",
       "253678                   0.0     1.0       0.0        1.0  23.0     0.0   \n",
       "253679                   1.0     1.0       1.0        1.0  25.0     0.0   \n",
       "\n",
       "        Stroke  Diabetes  PhysActivity  Fruits  ...  AnyHealthcare  \\\n",
       "253675     0.0       0.0           0.0     1.0  ...            1.0   \n",
       "253676     0.0       2.0           0.0     0.0  ...            1.0   \n",
       "253677     0.0       0.0           1.0     1.0  ...            1.0   \n",
       "253678     0.0       0.0           0.0     1.0  ...            1.0   \n",
       "253679     0.0       2.0           1.0     1.0  ...            1.0   \n",
       "\n",
       "        NoDocbcCost  GenHlth  MentHlth  PhysHlth  DiffWalk  Sex   Age  \\\n",
       "253675          0.0      3.0       0.0       5.0       0.0  1.0   5.0   \n",
       "253676          0.0      4.0       0.0       0.0       1.0  0.0  11.0   \n",
       "253677          0.0      1.0       0.0       0.0       0.0  0.0   2.0   \n",
       "253678          0.0      3.0       0.0       0.0       0.0  1.0   7.0   \n",
       "253679          0.0      2.0       0.0       0.0       0.0  0.0   9.0   \n",
       "\n",
       "        Education  Income  \n",
       "253675        6.0     7.0  \n",
       "253676        2.0     4.0  \n",
       "253677        5.0     2.0  \n",
       "253678        5.0     1.0  \n",
       "253679        6.0     2.0  \n",
       "\n",
       "[5 rows x 22 columns]"
      ]
     },
     "execution_count": 4,
     "metadata": {},
     "output_type": "execute_result"
    }
   ],
   "source": [
    "df.tail()"
   ]
  },
  {
   "cell_type": "markdown",
   "id": "39481389",
   "metadata": {
    "id": "06a6bb77"
   },
   "source": [
    "- Age : Indicates the person's age range, where 1 is 18 years old to 24 years old up to 13 which is 80 years old or more, each interval between has an increment of 5 years.\n",
    "\n",
    "The Age column include the corresponding data range of the age groups in which.\n",
    "\n",
    "1 = 18 - 24\n",
    "\n",
    "2 = 25 - 29\n",
    "\n",
    "3 = 30 - 34\n",
    "\n",
    "4 = 35 - 39\n",
    "\n",
    "5 = 40 - 44\n",
    "\n",
    "6 = 45 - 49\n",
    "\n",
    "7 = 50 - 54\n",
    "\n",
    "8 = 55 - 59\n",
    "\n",
    "9 = 60 - 64\n",
    "\n",
    "10 = 65 - 69\n",
    "\n",
    "11 = 70 - 74\n",
    "\n",
    "12 = 75 - 79\n",
    "\n",
    "13 = 80 and above"
   ]
  },
  {
   "cell_type": "markdown",
   "id": "069aef3a",
   "metadata": {
    "id": "481680db"
   },
   "source": [
    "- Education: Indicates the highest year of schooling completed, with 0 having never attended or only kindergarten and 6 being having attended 4 years of college or more."
   ]
  },
  {
   "cell_type": "code",
   "execution_count": 5,
   "id": "3aa41517",
   "metadata": {
    "colab": {
     "base_uri": "https://localhost:8080/"
    },
    "executionInfo": {
     "elapsed": 25,
     "status": "ok",
     "timestamp": 1702536466403,
     "user": {
      "displayName": "Viraj Thak",
      "userId": "05114723283592777529"
     },
     "user_tz": -330
    },
    "id": "fa29c501",
    "outputId": "82ce4930-3106-4600-db14-381dff06f2a6"
   },
   "outputs": [
    {
     "data": {
      "text/plain": [
       "(253680, 22)"
      ]
     },
     "execution_count": 5,
     "metadata": {},
     "output_type": "execute_result"
    }
   ],
   "source": [
    "df.shape"
   ]
  },
  {
   "cell_type": "code",
   "execution_count": 6,
   "id": "15fdd64c",
   "metadata": {
    "colab": {
     "base_uri": "https://localhost:8080/"
    },
    "executionInfo": {
     "elapsed": 25,
     "status": "ok",
     "timestamp": 1702536466404,
     "user": {
      "displayName": "Viraj Thak",
      "userId": "05114723283592777529"
     },
     "user_tz": -330
    },
    "id": "5400c571",
    "outputId": "da3af9d8-754f-4adb-d186-ea2e830cd04a"
   },
   "outputs": [
    {
     "data": {
      "text/plain": [
       "Index(['HeartDiseaseorAttack', 'HighBP', 'HighChol', 'CholCheck', 'BMI',\n",
       "       'Smoker', 'Stroke', 'Diabetes', 'PhysActivity', 'Fruits', 'Veggies',\n",
       "       'HvyAlcoholConsump', 'AnyHealthcare', 'NoDocbcCost', 'GenHlth',\n",
       "       'MentHlth', 'PhysHlth', 'DiffWalk', 'Sex', 'Age', 'Education',\n",
       "       'Income'],\n",
       "      dtype='object')"
      ]
     },
     "execution_count": 6,
     "metadata": {},
     "output_type": "execute_result"
    }
   ],
   "source": [
    "df.columns"
   ]
  },
  {
   "cell_type": "code",
   "execution_count": 7,
   "id": "e3db6784",
   "metadata": {
    "colab": {
     "base_uri": "https://localhost:8080/"
    },
    "executionInfo": {
     "elapsed": 25,
     "status": "ok",
     "timestamp": 1702536466405,
     "user": {
      "displayName": "Viraj Thak",
      "userId": "05114723283592777529"
     },
     "user_tz": -330
    },
    "id": "423da286",
    "outputId": "971fb205-7908-4389-de47-b908a441874f"
   },
   "outputs": [
    {
     "data": {
      "text/plain": [
       "HeartDiseaseorAttack    float64\n",
       "HighBP                  float64\n",
       "HighChol                float64\n",
       "CholCheck               float64\n",
       "BMI                     float64\n",
       "Smoker                  float64\n",
       "Stroke                  float64\n",
       "Diabetes                float64\n",
       "PhysActivity            float64\n",
       "Fruits                  float64\n",
       "Veggies                 float64\n",
       "HvyAlcoholConsump       float64\n",
       "AnyHealthcare           float64\n",
       "NoDocbcCost             float64\n",
       "GenHlth                 float64\n",
       "MentHlth                float64\n",
       "PhysHlth                float64\n",
       "DiffWalk                float64\n",
       "Sex                     float64\n",
       "Age                     float64\n",
       "Education               float64\n",
       "Income                  float64\n",
       "dtype: object"
      ]
     },
     "execution_count": 7,
     "metadata": {},
     "output_type": "execute_result"
    }
   ],
   "source": [
    "df.dtypes"
   ]
  },
  {
   "cell_type": "code",
   "execution_count": 8,
   "id": "3f0861ef",
   "metadata": {
    "colab": {
     "base_uri": "https://localhost:8080/",
     "height": 349
    },
    "executionInfo": {
     "elapsed": 733,
     "status": "ok",
     "timestamp": 1702536467114,
     "user": {
      "displayName": "Viraj Thak",
      "userId": "05114723283592777529"
     },
     "user_tz": -330
    },
    "id": "ec9828ae",
    "outputId": "8f500a06-5b59-48ae-fe1d-324302658b99"
   },
   "outputs": [
    {
     "data": {
      "text/html": [
       "<div>\n",
       "<style scoped>\n",
       "    .dataframe tbody tr th:only-of-type {\n",
       "        vertical-align: middle;\n",
       "    }\n",
       "\n",
       "    .dataframe tbody tr th {\n",
       "        vertical-align: top;\n",
       "    }\n",
       "\n",
       "    .dataframe thead th {\n",
       "        text-align: right;\n",
       "    }\n",
       "</style>\n",
       "<table border=\"1\" class=\"dataframe\">\n",
       "  <thead>\n",
       "    <tr style=\"text-align: right;\">\n",
       "      <th></th>\n",
       "      <th>HeartDiseaseorAttack</th>\n",
       "      <th>HighBP</th>\n",
       "      <th>HighChol</th>\n",
       "      <th>CholCheck</th>\n",
       "      <th>BMI</th>\n",
       "      <th>Smoker</th>\n",
       "      <th>Stroke</th>\n",
       "      <th>Diabetes</th>\n",
       "      <th>PhysActivity</th>\n",
       "      <th>Fruits</th>\n",
       "      <th>...</th>\n",
       "      <th>AnyHealthcare</th>\n",
       "      <th>NoDocbcCost</th>\n",
       "      <th>GenHlth</th>\n",
       "      <th>MentHlth</th>\n",
       "      <th>PhysHlth</th>\n",
       "      <th>DiffWalk</th>\n",
       "      <th>Sex</th>\n",
       "      <th>Age</th>\n",
       "      <th>Education</th>\n",
       "      <th>Income</th>\n",
       "    </tr>\n",
       "  </thead>\n",
       "  <tbody>\n",
       "    <tr>\n",
       "      <th>count</th>\n",
       "      <td>253680.000000</td>\n",
       "      <td>253680.000000</td>\n",
       "      <td>253680.000000</td>\n",
       "      <td>253680.000000</td>\n",
       "      <td>253680.000000</td>\n",
       "      <td>253680.000000</td>\n",
       "      <td>253680.000000</td>\n",
       "      <td>253680.000000</td>\n",
       "      <td>253680.000000</td>\n",
       "      <td>253680.000000</td>\n",
       "      <td>...</td>\n",
       "      <td>253680.000000</td>\n",
       "      <td>253680.000000</td>\n",
       "      <td>253680.000000</td>\n",
       "      <td>253680.000000</td>\n",
       "      <td>253680.000000</td>\n",
       "      <td>253680.000000</td>\n",
       "      <td>253680.000000</td>\n",
       "      <td>253680.000000</td>\n",
       "      <td>253680.000000</td>\n",
       "      <td>253680.000000</td>\n",
       "    </tr>\n",
       "    <tr>\n",
       "      <th>mean</th>\n",
       "      <td>0.094186</td>\n",
       "      <td>0.429001</td>\n",
       "      <td>0.424121</td>\n",
       "      <td>0.962670</td>\n",
       "      <td>28.382364</td>\n",
       "      <td>0.443169</td>\n",
       "      <td>0.040571</td>\n",
       "      <td>0.296921</td>\n",
       "      <td>0.756544</td>\n",
       "      <td>0.634256</td>\n",
       "      <td>...</td>\n",
       "      <td>0.951053</td>\n",
       "      <td>0.084177</td>\n",
       "      <td>2.511392</td>\n",
       "      <td>3.184772</td>\n",
       "      <td>4.242081</td>\n",
       "      <td>0.168224</td>\n",
       "      <td>0.440342</td>\n",
       "      <td>8.032119</td>\n",
       "      <td>5.050434</td>\n",
       "      <td>6.053875</td>\n",
       "    </tr>\n",
       "    <tr>\n",
       "      <th>std</th>\n",
       "      <td>0.292087</td>\n",
       "      <td>0.494934</td>\n",
       "      <td>0.494210</td>\n",
       "      <td>0.189571</td>\n",
       "      <td>6.608694</td>\n",
       "      <td>0.496761</td>\n",
       "      <td>0.197294</td>\n",
       "      <td>0.698160</td>\n",
       "      <td>0.429169</td>\n",
       "      <td>0.481639</td>\n",
       "      <td>...</td>\n",
       "      <td>0.215759</td>\n",
       "      <td>0.277654</td>\n",
       "      <td>1.068477</td>\n",
       "      <td>7.412847</td>\n",
       "      <td>8.717951</td>\n",
       "      <td>0.374066</td>\n",
       "      <td>0.496429</td>\n",
       "      <td>3.054220</td>\n",
       "      <td>0.985774</td>\n",
       "      <td>2.071148</td>\n",
       "    </tr>\n",
       "    <tr>\n",
       "      <th>min</th>\n",
       "      <td>0.000000</td>\n",
       "      <td>0.000000</td>\n",
       "      <td>0.000000</td>\n",
       "      <td>0.000000</td>\n",
       "      <td>12.000000</td>\n",
       "      <td>0.000000</td>\n",
       "      <td>0.000000</td>\n",
       "      <td>0.000000</td>\n",
       "      <td>0.000000</td>\n",
       "      <td>0.000000</td>\n",
       "      <td>...</td>\n",
       "      <td>0.000000</td>\n",
       "      <td>0.000000</td>\n",
       "      <td>1.000000</td>\n",
       "      <td>0.000000</td>\n",
       "      <td>0.000000</td>\n",
       "      <td>0.000000</td>\n",
       "      <td>0.000000</td>\n",
       "      <td>1.000000</td>\n",
       "      <td>1.000000</td>\n",
       "      <td>1.000000</td>\n",
       "    </tr>\n",
       "    <tr>\n",
       "      <th>25%</th>\n",
       "      <td>0.000000</td>\n",
       "      <td>0.000000</td>\n",
       "      <td>0.000000</td>\n",
       "      <td>1.000000</td>\n",
       "      <td>24.000000</td>\n",
       "      <td>0.000000</td>\n",
       "      <td>0.000000</td>\n",
       "      <td>0.000000</td>\n",
       "      <td>1.000000</td>\n",
       "      <td>0.000000</td>\n",
       "      <td>...</td>\n",
       "      <td>1.000000</td>\n",
       "      <td>0.000000</td>\n",
       "      <td>2.000000</td>\n",
       "      <td>0.000000</td>\n",
       "      <td>0.000000</td>\n",
       "      <td>0.000000</td>\n",
       "      <td>0.000000</td>\n",
       "      <td>6.000000</td>\n",
       "      <td>4.000000</td>\n",
       "      <td>5.000000</td>\n",
       "    </tr>\n",
       "    <tr>\n",
       "      <th>50%</th>\n",
       "      <td>0.000000</td>\n",
       "      <td>0.000000</td>\n",
       "      <td>0.000000</td>\n",
       "      <td>1.000000</td>\n",
       "      <td>27.000000</td>\n",
       "      <td>0.000000</td>\n",
       "      <td>0.000000</td>\n",
       "      <td>0.000000</td>\n",
       "      <td>1.000000</td>\n",
       "      <td>1.000000</td>\n",
       "      <td>...</td>\n",
       "      <td>1.000000</td>\n",
       "      <td>0.000000</td>\n",
       "      <td>2.000000</td>\n",
       "      <td>0.000000</td>\n",
       "      <td>0.000000</td>\n",
       "      <td>0.000000</td>\n",
       "      <td>0.000000</td>\n",
       "      <td>8.000000</td>\n",
       "      <td>5.000000</td>\n",
       "      <td>7.000000</td>\n",
       "    </tr>\n",
       "    <tr>\n",
       "      <th>75%</th>\n",
       "      <td>0.000000</td>\n",
       "      <td>1.000000</td>\n",
       "      <td>1.000000</td>\n",
       "      <td>1.000000</td>\n",
       "      <td>31.000000</td>\n",
       "      <td>1.000000</td>\n",
       "      <td>0.000000</td>\n",
       "      <td>0.000000</td>\n",
       "      <td>1.000000</td>\n",
       "      <td>1.000000</td>\n",
       "      <td>...</td>\n",
       "      <td>1.000000</td>\n",
       "      <td>0.000000</td>\n",
       "      <td>3.000000</td>\n",
       "      <td>2.000000</td>\n",
       "      <td>3.000000</td>\n",
       "      <td>0.000000</td>\n",
       "      <td>1.000000</td>\n",
       "      <td>10.000000</td>\n",
       "      <td>6.000000</td>\n",
       "      <td>8.000000</td>\n",
       "    </tr>\n",
       "    <tr>\n",
       "      <th>max</th>\n",
       "      <td>1.000000</td>\n",
       "      <td>1.000000</td>\n",
       "      <td>1.000000</td>\n",
       "      <td>1.000000</td>\n",
       "      <td>98.000000</td>\n",
       "      <td>1.000000</td>\n",
       "      <td>1.000000</td>\n",
       "      <td>2.000000</td>\n",
       "      <td>1.000000</td>\n",
       "      <td>1.000000</td>\n",
       "      <td>...</td>\n",
       "      <td>1.000000</td>\n",
       "      <td>1.000000</td>\n",
       "      <td>5.000000</td>\n",
       "      <td>30.000000</td>\n",
       "      <td>30.000000</td>\n",
       "      <td>1.000000</td>\n",
       "      <td>1.000000</td>\n",
       "      <td>13.000000</td>\n",
       "      <td>6.000000</td>\n",
       "      <td>8.000000</td>\n",
       "    </tr>\n",
       "  </tbody>\n",
       "</table>\n",
       "<p>8 rows × 22 columns</p>\n",
       "</div>"
      ],
      "text/plain": [
       "       HeartDiseaseorAttack         HighBP       HighChol      CholCheck  \\\n",
       "count         253680.000000  253680.000000  253680.000000  253680.000000   \n",
       "mean               0.094186       0.429001       0.424121       0.962670   \n",
       "std                0.292087       0.494934       0.494210       0.189571   \n",
       "min                0.000000       0.000000       0.000000       0.000000   \n",
       "25%                0.000000       0.000000       0.000000       1.000000   \n",
       "50%                0.000000       0.000000       0.000000       1.000000   \n",
       "75%                0.000000       1.000000       1.000000       1.000000   \n",
       "max                1.000000       1.000000       1.000000       1.000000   \n",
       "\n",
       "                 BMI         Smoker         Stroke       Diabetes  \\\n",
       "count  253680.000000  253680.000000  253680.000000  253680.000000   \n",
       "mean       28.382364       0.443169       0.040571       0.296921   \n",
       "std         6.608694       0.496761       0.197294       0.698160   \n",
       "min        12.000000       0.000000       0.000000       0.000000   \n",
       "25%        24.000000       0.000000       0.000000       0.000000   \n",
       "50%        27.000000       0.000000       0.000000       0.000000   \n",
       "75%        31.000000       1.000000       0.000000       0.000000   \n",
       "max        98.000000       1.000000       1.000000       2.000000   \n",
       "\n",
       "        PhysActivity         Fruits  ...  AnyHealthcare    NoDocbcCost  \\\n",
       "count  253680.000000  253680.000000  ...  253680.000000  253680.000000   \n",
       "mean        0.756544       0.634256  ...       0.951053       0.084177   \n",
       "std         0.429169       0.481639  ...       0.215759       0.277654   \n",
       "min         0.000000       0.000000  ...       0.000000       0.000000   \n",
       "25%         1.000000       0.000000  ...       1.000000       0.000000   \n",
       "50%         1.000000       1.000000  ...       1.000000       0.000000   \n",
       "75%         1.000000       1.000000  ...       1.000000       0.000000   \n",
       "max         1.000000       1.000000  ...       1.000000       1.000000   \n",
       "\n",
       "             GenHlth       MentHlth       PhysHlth       DiffWalk  \\\n",
       "count  253680.000000  253680.000000  253680.000000  253680.000000   \n",
       "mean        2.511392       3.184772       4.242081       0.168224   \n",
       "std         1.068477       7.412847       8.717951       0.374066   \n",
       "min         1.000000       0.000000       0.000000       0.000000   \n",
       "25%         2.000000       0.000000       0.000000       0.000000   \n",
       "50%         2.000000       0.000000       0.000000       0.000000   \n",
       "75%         3.000000       2.000000       3.000000       0.000000   \n",
       "max         5.000000      30.000000      30.000000       1.000000   \n",
       "\n",
       "                 Sex            Age      Education         Income  \n",
       "count  253680.000000  253680.000000  253680.000000  253680.000000  \n",
       "mean        0.440342       8.032119       5.050434       6.053875  \n",
       "std         0.496429       3.054220       0.985774       2.071148  \n",
       "min         0.000000       1.000000       1.000000       1.000000  \n",
       "25%         0.000000       6.000000       4.000000       5.000000  \n",
       "50%         0.000000       8.000000       5.000000       7.000000  \n",
       "75%         1.000000      10.000000       6.000000       8.000000  \n",
       "max         1.000000      13.000000       6.000000       8.000000  \n",
       "\n",
       "[8 rows x 22 columns]"
      ]
     },
     "execution_count": 8,
     "metadata": {},
     "output_type": "execute_result"
    }
   ],
   "source": [
    "df.describe()"
   ]
  },
  {
   "cell_type": "code",
   "execution_count": 9,
   "id": "66f7353f",
   "metadata": {
    "colab": {
     "base_uri": "https://localhost:8080/"
    },
    "executionInfo": {
     "elapsed": 24,
     "status": "ok",
     "timestamp": 1702536467115,
     "user": {
      "displayName": "Viraj Thak",
      "userId": "05114723283592777529"
     },
     "user_tz": -330
    },
    "id": "b3d88ffb",
    "outputId": "8611fc84-b617-4874-a26b-0df6e0ea4edb"
   },
   "outputs": [
    {
     "name": "stdout",
     "output_type": "stream",
     "text": [
      "<class 'pandas.core.frame.DataFrame'>\n",
      "RangeIndex: 253680 entries, 0 to 253679\n",
      "Data columns (total 22 columns):\n",
      " #   Column                Non-Null Count   Dtype  \n",
      "---  ------                --------------   -----  \n",
      " 0   HeartDiseaseorAttack  253680 non-null  float64\n",
      " 1   HighBP                253680 non-null  float64\n",
      " 2   HighChol              253680 non-null  float64\n",
      " 3   CholCheck             253680 non-null  float64\n",
      " 4   BMI                   253680 non-null  float64\n",
      " 5   Smoker                253680 non-null  float64\n",
      " 6   Stroke                253680 non-null  float64\n",
      " 7   Diabetes              253680 non-null  float64\n",
      " 8   PhysActivity          253680 non-null  float64\n",
      " 9   Fruits                253680 non-null  float64\n",
      " 10  Veggies               253680 non-null  float64\n",
      " 11  HvyAlcoholConsump     253680 non-null  float64\n",
      " 12  AnyHealthcare         253680 non-null  float64\n",
      " 13  NoDocbcCost           253680 non-null  float64\n",
      " 14  GenHlth               253680 non-null  float64\n",
      " 15  MentHlth              253680 non-null  float64\n",
      " 16  PhysHlth              253680 non-null  float64\n",
      " 17  DiffWalk              253680 non-null  float64\n",
      " 18  Sex                   253680 non-null  float64\n",
      " 19  Age                   253680 non-null  float64\n",
      " 20  Education             253680 non-null  float64\n",
      " 21  Income                253680 non-null  float64\n",
      "dtypes: float64(22)\n",
      "memory usage: 42.6 MB\n"
     ]
    }
   ],
   "source": [
    "df.info()"
   ]
  },
  {
   "cell_type": "code",
   "execution_count": 10,
   "id": "839f5d7c",
   "metadata": {
    "executionInfo": {
     "elapsed": 22,
     "status": "ok",
     "timestamp": 1702536467115,
     "user": {
      "displayName": "Viraj Thak",
      "userId": "05114723283592777529"
     },
     "user_tz": -330
    },
    "id": "83b24a7c"
   },
   "outputs": [],
   "source": [
    "categories = []\n",
    "numerical = []\n",
    "for i in df.columns:\n",
    "    if(df[i].dtypes == 'object'):\n",
    "        categories.append(i)\n",
    "    else:\n",
    "        numerical.append(i)"
   ]
  },
  {
   "cell_type": "code",
   "execution_count": 11,
   "id": "6992368b",
   "metadata": {
    "colab": {
     "base_uri": "https://localhost:8080/"
    },
    "executionInfo": {
     "elapsed": 22,
     "status": "ok",
     "timestamp": 1702536467115,
     "user": {
      "displayName": "Viraj Thak",
      "userId": "05114723283592777529"
     },
     "user_tz": -330
    },
    "id": "2d128c17",
    "outputId": "fc2761eb-a0c1-499c-e0d7-e4d2cd6e2209"
   },
   "outputs": [
    {
     "name": "stdout",
     "output_type": "stream",
     "text": [
      "Categorical Value: \n",
      " []\n",
      "\n",
      "Continuous Value: \n",
      " ['HeartDiseaseorAttack', 'HighBP', 'HighChol', 'CholCheck', 'BMI', 'Smoker', 'Stroke', 'Diabetes', 'PhysActivity', 'Fruits', 'Veggies', 'HvyAlcoholConsump', 'AnyHealthcare', 'NoDocbcCost', 'GenHlth', 'MentHlth', 'PhysHlth', 'DiffWalk', 'Sex', 'Age', 'Education', 'Income']\n"
     ]
    }
   ],
   "source": [
    "print(\"Categorical Value: \\n\", categories)\n",
    "print(\"\\nContinuous Value: \\n\", numerical)"
   ]
  },
  {
   "cell_type": "markdown",
   "id": "529c66c4",
   "metadata": {
    "id": "d8389246"
   },
   "source": [
    "# Data Cleaning"
   ]
  },
  {
   "cell_type": "markdown",
   "id": "15751dc9",
   "metadata": {
    "id": "7b91de70"
   },
   "source": [
    "## Missing Value Detection"
   ]
  },
  {
   "cell_type": "code",
   "execution_count": 12,
   "id": "f4d13e6b",
   "metadata": {
    "colab": {
     "base_uri": "https://localhost:8080/",
     "height": 443
    },
    "executionInfo": {
     "elapsed": 20,
     "status": "ok",
     "timestamp": 1702536467115,
     "user": {
      "displayName": "Viraj Thak",
      "userId": "05114723283592777529"
     },
     "user_tz": -330
    },
    "id": "e59c62b9",
    "outputId": "4b411061-fadf-4141-ccbf-7c4a6867214b"
   },
   "outputs": [
    {
     "data": {
      "text/html": [
       "<div>\n",
       "<style scoped>\n",
       "    .dataframe tbody tr th:only-of-type {\n",
       "        vertical-align: middle;\n",
       "    }\n",
       "\n",
       "    .dataframe tbody tr th {\n",
       "        vertical-align: top;\n",
       "    }\n",
       "\n",
       "    .dataframe thead th {\n",
       "        text-align: right;\n",
       "    }\n",
       "</style>\n",
       "<table border=\"1\" class=\"dataframe\">\n",
       "  <thead>\n",
       "    <tr style=\"text-align: right;\">\n",
       "      <th></th>\n",
       "      <th>HeartDiseaseorAttack</th>\n",
       "      <th>HighBP</th>\n",
       "      <th>HighChol</th>\n",
       "      <th>CholCheck</th>\n",
       "      <th>BMI</th>\n",
       "      <th>Smoker</th>\n",
       "      <th>Stroke</th>\n",
       "      <th>Diabetes</th>\n",
       "      <th>PhysActivity</th>\n",
       "      <th>Fruits</th>\n",
       "      <th>...</th>\n",
       "      <th>AnyHealthcare</th>\n",
       "      <th>NoDocbcCost</th>\n",
       "      <th>GenHlth</th>\n",
       "      <th>MentHlth</th>\n",
       "      <th>PhysHlth</th>\n",
       "      <th>DiffWalk</th>\n",
       "      <th>Sex</th>\n",
       "      <th>Age</th>\n",
       "      <th>Education</th>\n",
       "      <th>Income</th>\n",
       "    </tr>\n",
       "  </thead>\n",
       "  <tbody>\n",
       "    <tr>\n",
       "      <th>0</th>\n",
       "      <td>False</td>\n",
       "      <td>False</td>\n",
       "      <td>False</td>\n",
       "      <td>False</td>\n",
       "      <td>False</td>\n",
       "      <td>False</td>\n",
       "      <td>False</td>\n",
       "      <td>False</td>\n",
       "      <td>False</td>\n",
       "      <td>False</td>\n",
       "      <td>...</td>\n",
       "      <td>False</td>\n",
       "      <td>False</td>\n",
       "      <td>False</td>\n",
       "      <td>False</td>\n",
       "      <td>False</td>\n",
       "      <td>False</td>\n",
       "      <td>False</td>\n",
       "      <td>False</td>\n",
       "      <td>False</td>\n",
       "      <td>False</td>\n",
       "    </tr>\n",
       "    <tr>\n",
       "      <th>1</th>\n",
       "      <td>False</td>\n",
       "      <td>False</td>\n",
       "      <td>False</td>\n",
       "      <td>False</td>\n",
       "      <td>False</td>\n",
       "      <td>False</td>\n",
       "      <td>False</td>\n",
       "      <td>False</td>\n",
       "      <td>False</td>\n",
       "      <td>False</td>\n",
       "      <td>...</td>\n",
       "      <td>False</td>\n",
       "      <td>False</td>\n",
       "      <td>False</td>\n",
       "      <td>False</td>\n",
       "      <td>False</td>\n",
       "      <td>False</td>\n",
       "      <td>False</td>\n",
       "      <td>False</td>\n",
       "      <td>False</td>\n",
       "      <td>False</td>\n",
       "    </tr>\n",
       "    <tr>\n",
       "      <th>2</th>\n",
       "      <td>False</td>\n",
       "      <td>False</td>\n",
       "      <td>False</td>\n",
       "      <td>False</td>\n",
       "      <td>False</td>\n",
       "      <td>False</td>\n",
       "      <td>False</td>\n",
       "      <td>False</td>\n",
       "      <td>False</td>\n",
       "      <td>False</td>\n",
       "      <td>...</td>\n",
       "      <td>False</td>\n",
       "      <td>False</td>\n",
       "      <td>False</td>\n",
       "      <td>False</td>\n",
       "      <td>False</td>\n",
       "      <td>False</td>\n",
       "      <td>False</td>\n",
       "      <td>False</td>\n",
       "      <td>False</td>\n",
       "      <td>False</td>\n",
       "    </tr>\n",
       "    <tr>\n",
       "      <th>3</th>\n",
       "      <td>False</td>\n",
       "      <td>False</td>\n",
       "      <td>False</td>\n",
       "      <td>False</td>\n",
       "      <td>False</td>\n",
       "      <td>False</td>\n",
       "      <td>False</td>\n",
       "      <td>False</td>\n",
       "      <td>False</td>\n",
       "      <td>False</td>\n",
       "      <td>...</td>\n",
       "      <td>False</td>\n",
       "      <td>False</td>\n",
       "      <td>False</td>\n",
       "      <td>False</td>\n",
       "      <td>False</td>\n",
       "      <td>False</td>\n",
       "      <td>False</td>\n",
       "      <td>False</td>\n",
       "      <td>False</td>\n",
       "      <td>False</td>\n",
       "    </tr>\n",
       "    <tr>\n",
       "      <th>4</th>\n",
       "      <td>False</td>\n",
       "      <td>False</td>\n",
       "      <td>False</td>\n",
       "      <td>False</td>\n",
       "      <td>False</td>\n",
       "      <td>False</td>\n",
       "      <td>False</td>\n",
       "      <td>False</td>\n",
       "      <td>False</td>\n",
       "      <td>False</td>\n",
       "      <td>...</td>\n",
       "      <td>False</td>\n",
       "      <td>False</td>\n",
       "      <td>False</td>\n",
       "      <td>False</td>\n",
       "      <td>False</td>\n",
       "      <td>False</td>\n",
       "      <td>False</td>\n",
       "      <td>False</td>\n",
       "      <td>False</td>\n",
       "      <td>False</td>\n",
       "    </tr>\n",
       "    <tr>\n",
       "      <th>...</th>\n",
       "      <td>...</td>\n",
       "      <td>...</td>\n",
       "      <td>...</td>\n",
       "      <td>...</td>\n",
       "      <td>...</td>\n",
       "      <td>...</td>\n",
       "      <td>...</td>\n",
       "      <td>...</td>\n",
       "      <td>...</td>\n",
       "      <td>...</td>\n",
       "      <td>...</td>\n",
       "      <td>...</td>\n",
       "      <td>...</td>\n",
       "      <td>...</td>\n",
       "      <td>...</td>\n",
       "      <td>...</td>\n",
       "      <td>...</td>\n",
       "      <td>...</td>\n",
       "      <td>...</td>\n",
       "      <td>...</td>\n",
       "      <td>...</td>\n",
       "    </tr>\n",
       "    <tr>\n",
       "      <th>253675</th>\n",
       "      <td>False</td>\n",
       "      <td>False</td>\n",
       "      <td>False</td>\n",
       "      <td>False</td>\n",
       "      <td>False</td>\n",
       "      <td>False</td>\n",
       "      <td>False</td>\n",
       "      <td>False</td>\n",
       "      <td>False</td>\n",
       "      <td>False</td>\n",
       "      <td>...</td>\n",
       "      <td>False</td>\n",
       "      <td>False</td>\n",
       "      <td>False</td>\n",
       "      <td>False</td>\n",
       "      <td>False</td>\n",
       "      <td>False</td>\n",
       "      <td>False</td>\n",
       "      <td>False</td>\n",
       "      <td>False</td>\n",
       "      <td>False</td>\n",
       "    </tr>\n",
       "    <tr>\n",
       "      <th>253676</th>\n",
       "      <td>False</td>\n",
       "      <td>False</td>\n",
       "      <td>False</td>\n",
       "      <td>False</td>\n",
       "      <td>False</td>\n",
       "      <td>False</td>\n",
       "      <td>False</td>\n",
       "      <td>False</td>\n",
       "      <td>False</td>\n",
       "      <td>False</td>\n",
       "      <td>...</td>\n",
       "      <td>False</td>\n",
       "      <td>False</td>\n",
       "      <td>False</td>\n",
       "      <td>False</td>\n",
       "      <td>False</td>\n",
       "      <td>False</td>\n",
       "      <td>False</td>\n",
       "      <td>False</td>\n",
       "      <td>False</td>\n",
       "      <td>False</td>\n",
       "    </tr>\n",
       "    <tr>\n",
       "      <th>253677</th>\n",
       "      <td>False</td>\n",
       "      <td>False</td>\n",
       "      <td>False</td>\n",
       "      <td>False</td>\n",
       "      <td>False</td>\n",
       "      <td>False</td>\n",
       "      <td>False</td>\n",
       "      <td>False</td>\n",
       "      <td>False</td>\n",
       "      <td>False</td>\n",
       "      <td>...</td>\n",
       "      <td>False</td>\n",
       "      <td>False</td>\n",
       "      <td>False</td>\n",
       "      <td>False</td>\n",
       "      <td>False</td>\n",
       "      <td>False</td>\n",
       "      <td>False</td>\n",
       "      <td>False</td>\n",
       "      <td>False</td>\n",
       "      <td>False</td>\n",
       "    </tr>\n",
       "    <tr>\n",
       "      <th>253678</th>\n",
       "      <td>False</td>\n",
       "      <td>False</td>\n",
       "      <td>False</td>\n",
       "      <td>False</td>\n",
       "      <td>False</td>\n",
       "      <td>False</td>\n",
       "      <td>False</td>\n",
       "      <td>False</td>\n",
       "      <td>False</td>\n",
       "      <td>False</td>\n",
       "      <td>...</td>\n",
       "      <td>False</td>\n",
       "      <td>False</td>\n",
       "      <td>False</td>\n",
       "      <td>False</td>\n",
       "      <td>False</td>\n",
       "      <td>False</td>\n",
       "      <td>False</td>\n",
       "      <td>False</td>\n",
       "      <td>False</td>\n",
       "      <td>False</td>\n",
       "    </tr>\n",
       "    <tr>\n",
       "      <th>253679</th>\n",
       "      <td>False</td>\n",
       "      <td>False</td>\n",
       "      <td>False</td>\n",
       "      <td>False</td>\n",
       "      <td>False</td>\n",
       "      <td>False</td>\n",
       "      <td>False</td>\n",
       "      <td>False</td>\n",
       "      <td>False</td>\n",
       "      <td>False</td>\n",
       "      <td>...</td>\n",
       "      <td>False</td>\n",
       "      <td>False</td>\n",
       "      <td>False</td>\n",
       "      <td>False</td>\n",
       "      <td>False</td>\n",
       "      <td>False</td>\n",
       "      <td>False</td>\n",
       "      <td>False</td>\n",
       "      <td>False</td>\n",
       "      <td>False</td>\n",
       "    </tr>\n",
       "  </tbody>\n",
       "</table>\n",
       "<p>253680 rows × 22 columns</p>\n",
       "</div>"
      ],
      "text/plain": [
       "        HeartDiseaseorAttack  HighBP  HighChol  CholCheck    BMI  Smoker  \\\n",
       "0                      False   False     False      False  False   False   \n",
       "1                      False   False     False      False  False   False   \n",
       "2                      False   False     False      False  False   False   \n",
       "3                      False   False     False      False  False   False   \n",
       "4                      False   False     False      False  False   False   \n",
       "...                      ...     ...       ...        ...    ...     ...   \n",
       "253675                 False   False     False      False  False   False   \n",
       "253676                 False   False     False      False  False   False   \n",
       "253677                 False   False     False      False  False   False   \n",
       "253678                 False   False     False      False  False   False   \n",
       "253679                 False   False     False      False  False   False   \n",
       "\n",
       "        Stroke  Diabetes  PhysActivity  Fruits  ...  AnyHealthcare  \\\n",
       "0        False     False         False   False  ...          False   \n",
       "1        False     False         False   False  ...          False   \n",
       "2        False     False         False   False  ...          False   \n",
       "3        False     False         False   False  ...          False   \n",
       "4        False     False         False   False  ...          False   \n",
       "...        ...       ...           ...     ...  ...            ...   \n",
       "253675   False     False         False   False  ...          False   \n",
       "253676   False     False         False   False  ...          False   \n",
       "253677   False     False         False   False  ...          False   \n",
       "253678   False     False         False   False  ...          False   \n",
       "253679   False     False         False   False  ...          False   \n",
       "\n",
       "        NoDocbcCost  GenHlth  MentHlth  PhysHlth  DiffWalk    Sex    Age  \\\n",
       "0             False    False     False     False     False  False  False   \n",
       "1             False    False     False     False     False  False  False   \n",
       "2             False    False     False     False     False  False  False   \n",
       "3             False    False     False     False     False  False  False   \n",
       "4             False    False     False     False     False  False  False   \n",
       "...             ...      ...       ...       ...       ...    ...    ...   \n",
       "253675        False    False     False     False     False  False  False   \n",
       "253676        False    False     False     False     False  False  False   \n",
       "253677        False    False     False     False     False  False  False   \n",
       "253678        False    False     False     False     False  False  False   \n",
       "253679        False    False     False     False     False  False  False   \n",
       "\n",
       "        Education  Income  \n",
       "0           False   False  \n",
       "1           False   False  \n",
       "2           False   False  \n",
       "3           False   False  \n",
       "4           False   False  \n",
       "...           ...     ...  \n",
       "253675      False   False  \n",
       "253676      False   False  \n",
       "253677      False   False  \n",
       "253678      False   False  \n",
       "253679      False   False  \n",
       "\n",
       "[253680 rows x 22 columns]"
      ]
     },
     "execution_count": 12,
     "metadata": {},
     "output_type": "execute_result"
    }
   ],
   "source": [
    "df.isnull()"
   ]
  },
  {
   "cell_type": "code",
   "execution_count": 13,
   "id": "60ec2773",
   "metadata": {
    "colab": {
     "base_uri": "https://localhost:8080/"
    },
    "executionInfo": {
     "elapsed": 19,
     "status": "ok",
     "timestamp": 1702536467115,
     "user": {
      "displayName": "Viraj Thak",
      "userId": "05114723283592777529"
     },
     "user_tz": -330
    },
    "id": "c60bb369",
    "outputId": "e304c5dd-0edd-48f5-a1fa-aa9e28604cda"
   },
   "outputs": [
    {
     "data": {
      "text/plain": [
       "HeartDiseaseorAttack    0\n",
       "HighBP                  0\n",
       "HighChol                0\n",
       "CholCheck               0\n",
       "BMI                     0\n",
       "Smoker                  0\n",
       "Stroke                  0\n",
       "Diabetes                0\n",
       "PhysActivity            0\n",
       "Fruits                  0\n",
       "Veggies                 0\n",
       "HvyAlcoholConsump       0\n",
       "AnyHealthcare           0\n",
       "NoDocbcCost             0\n",
       "GenHlth                 0\n",
       "MentHlth                0\n",
       "PhysHlth                0\n",
       "DiffWalk                0\n",
       "Sex                     0\n",
       "Age                     0\n",
       "Education               0\n",
       "Income                  0\n",
       "dtype: int64"
      ]
     },
     "execution_count": 13,
     "metadata": {},
     "output_type": "execute_result"
    }
   ],
   "source": [
    "df.isnull().sum()"
   ]
  },
  {
   "cell_type": "markdown",
   "id": "b7a63aa6",
   "metadata": {
    "id": "871aced9"
   },
   "source": [
    "As we can see there are no missing values in the dataset"
   ]
  },
  {
   "cell_type": "markdown",
   "id": "e63da030",
   "metadata": {
    "id": "45e78f8e"
   },
   "source": [
    "## Outlier Detection"
   ]
  },
  {
   "cell_type": "code",
   "execution_count": 14,
   "id": "5a304019",
   "metadata": {
    "colab": {
     "base_uri": "https://localhost:8080/",
     "height": 1000
    },
    "executionInfo": {
     "elapsed": 4046,
     "status": "ok",
     "timestamp": 1702536471144,
     "user": {
      "displayName": "Viraj Thak",
      "userId": "05114723283592777529"
     },
     "user_tz": -330
    },
    "id": "f6ec3a75",
    "outputId": "9b0dfdbf-c50d-47b1-8f2b-eefbcaf1380d"
   },
   "outputs": [
    {
     "data": {
      "image/png": "[encoded data removed]",
      "text/plain": [
       "<Figure size 432x288 with 1 Axes>"
      ]
     },
     "metadata": {
      "needs_background": "light"
     },
     "output_type": "display_data"
    },
    {
     "data": {
      "image/png": "[encoded data removed]",
      "text/plain": [
       "<Figure size 432x288 with 1 Axes>"
      ]
     },
     "metadata": {
      "needs_background": "light"
     },
     "output_type": "display_data"
    },
    {
     "data": {
      "image/png": "[encoded data removed]",
      "text/plain": [
       "<Figure size 432x288 with 1 Axes>"
      ]
     },
     "metadata": {
      "needs_background": "light"
     },
     "output_type": "display_data"
    },
    {
     "data": {
      "image/png": "[encoded data removed]",
      "text/plain": [
       "<Figure size 432x288 with 1 Axes>"
      ]
     },
     "metadata": {
      "needs_background": "light"
     },
     "output_type": "display_data"
    },
    {
     "data": {
      "image/png": "[encoded data removed]",
      "text/plain": [
       "<Figure size 432x288 with 1 Axes>"
      ]
     },
     "metadata": {
      "needs_background": "light"
     },
     "output_type": "display_data"
    },
    {
     "data": {
      "image/png": "[encoded data removed]",
      "text/plain": [
       "<Figure size 432x288 with 1 Axes>"
      ]
     },
     "metadata": {
      "needs_background": "light"
     },
     "output_type": "display_data"
    },
    {
     "data": {
      "image/png": "[encoded data removed]",
      "text/plain": [
       "<Figure size 432x288 with 1 Axes>"
      ]
     },
     "metadata": {
      "needs_background": "light"
     },
     "output_type": "display_data"
    }
   ],
   "source": [
    "# Check for outlier using multiple boxplot\n",
    "\n",
    "outlier = [ 'BMI', 'GenHlth', 'MentHlth', 'PhysHlth',  'Age', 'Education', 'Income']\n",
    "\n",
    "for column in outlier:\n",
    "    if df[column].dtype in ['int64', 'float64']:\n",
    "        plt.figure()\n",
    "        df.boxplot(column = [column])"
   ]
  },
  {
   "cell_type": "code",
   "execution_count": 15,
   "id": "5497050d",
   "metadata": {
    "executionInfo": {
     "elapsed": 29,
     "status": "ok",
     "timestamp": 1702536471145,
     "user": {
      "displayName": "Viraj Thak",
      "userId": "05114723283592777529"
     },
     "user_tz": -330
    },
    "id": "50ee6535"
   },
   "outputs": [],
   "source": [
    "new_df = df.copy()"
   ]
  },
  {
   "cell_type": "code",
   "execution_count": 16,
   "id": "95b814f0",
   "metadata": {
    "colab": {
     "base_uri": "https://localhost:8080/"
    },
    "executionInfo": {
     "elapsed": 28,
     "status": "ok",
     "timestamp": 1702536471146,
     "user": {
      "displayName": "Viraj Thak",
      "userId": "05114723283592777529"
     },
     "user_tz": -330
    },
    "id": "acf7b7a9",
    "outputId": "88f0d55b-9f9d-44d8-dc43-a327005afcb4"
   },
   "outputs": [
    {
     "name": "stdout",
     "output_type": "stream",
     "text": [
      "  Feature Name  Upper_Limit  Lower_Limit\n",
      "0          BMI         41.5         13.5\n",
      "1      GenHlth          4.5          0.5\n",
      "2     MentHlth          5.0         -3.0\n",
      "3     PhysHlth          7.5         -4.5\n",
      "4          Age         16.0          0.0\n",
      "5    Education          9.0          1.0\n",
      "6       Income         12.5          0.5\n"
     ]
    }
   ],
   "source": [
    "\n",
    "Limits = pd.DataFrame({\n",
    "    'Feature Name': [],\n",
    "    'Upper_Limit': [],\n",
    "    'Lower_Limit': []})\n",
    "\n",
    "for feature in outlier:\n",
    "    # Here we are computing the first and third quartile and interquartile range i.e. IQR to compute upper & lower limit\n",
    "    q1 = df[feature].quantile(0.25)\n",
    "    q3 = df[feature].quantile(0.75)\n",
    "    iqr = q3 - q1\n",
    "\n",
    "    upper_limit = q3 + (1.5 * iqr)\n",
    "    lower_limit = q1 - (1.5 * iqr)\n",
    "\n",
    "    dicts = [{'Feature Name': feature, 'Upper_Limit': upper_limit, 'Lower_Limit': lower_limit}]\n",
    "\n",
    "    Limits = Limits.append(dicts, ignore_index = True, sort = False)\n",
    "\n",
    "    # Capping i.e. equating the values of the outlier to their upper and lower limit\n",
    "    new_df.loc[(new_df[feature]>upper_limit), feature] = upper_limit\n",
    "    new_df.loc[(new_df[feature]<lower_limit), feature] = lower_limit\n",
    "\n",
    "print(Limits)"
   ]
  },
  {
   "cell_type": "code",
   "execution_count": 17,
   "id": "30984042",
   "metadata": {
    "colab": {
     "base_uri": "https://localhost:8080/",
     "height": 1000
    },
    "executionInfo": {
     "elapsed": 3825,
     "status": "ok",
     "timestamp": 1702536474949,
     "user": {
      "displayName": "Viraj Thak",
      "userId": "05114723283592777529"
     },
     "user_tz": -330
    },
    "id": "a8fc8e3c",
    "outputId": "1002b3e6-6818-4b24-ecc4-68d4eb6d76b5"
   },
   "outputs": [
    {
     "data": {
      "image/png": "[encoded data removed]",
      "text/plain": [
       "<Figure size 432x288 with 1 Axes>"
      ]
     },
     "metadata": {
      "needs_background": "light"
     },
     "output_type": "display_data"
    },
    {
     "data": {
      "image/png": "[encoded data removed]",
      "text/plain": [
       "<Figure size 432x288 with 1 Axes>"
      ]
     },
     "metadata": {
      "needs_background": "light"
     },
     "output_type": "display_data"
    },
    {
     "data": {
      "image/png": "[encoded data removed]",
      "text/plain": [
       "<Figure size 432x288 with 1 Axes>"
      ]
     },
     "metadata": {
      "needs_background": "light"
     },
     "output_type": "display_data"
    },
    {
     "data": {
      "image/png": "[encoded data removed]",
      "text/plain": [
       "<Figure size 432x288 with 1 Axes>"
      ]
     },
     "metadata": {
      "needs_background": "light"
     },
     "output_type": "display_data"
    },
    {
     "data": {
      "image/png": "[encoded data removed]",
      "text/plain": [
       "<Figure size 432x288 with 1 Axes>"
      ]
     },
     "metadata": {
      "needs_background": "light"
     },
     "output_type": "display_data"
    },
    {
     "data": {
      "image/png": "[encoded data removed]",
      "text/plain": [
       "<Figure size 432x288 with 1 Axes>"
      ]
     },
     "metadata": {
      "needs_background": "light"
     },
     "output_type": "display_data"
    },
    {
     "data": {
      "image/png": "[encoded data removed]",
      "text/plain": [
       "<Figure size 432x288 with 1 Axes>"
      ]
     },
     "metadata": {
      "needs_background": "light"
     },
     "output_type": "display_data"
    }
   ],
   "source": [
    "for column in outlier:\n",
    "    if new_df[column].dtype in ['int64', 'float64']:\n",
    "        plt.figure()\n",
    "        plt.title(\"After Outlier Removal\")\n",
    "        new_df.boxplot(column = [column])"
   ]
  },
  {
   "cell_type": "markdown",
   "id": "af33f647",
   "metadata": {
    "id": "89360fb8"
   },
   "source": [
    "# Exploratory Data Analysis"
   ]
  },
  {
   "cell_type": "markdown",
   "id": "78d391e3",
   "metadata": {
    "id": "5c32ee3d"
   },
   "source": [
    "## Univariate Analysis"
   ]
  },
  {
   "cell_type": "code",
   "execution_count": 18,
   "id": "a7708ada",
   "metadata": {
    "colab": {
     "base_uri": "https://localhost:8080/"
    },
    "executionInfo": {
     "elapsed": 8,
     "status": "ok",
     "timestamp": 1702536474949,
     "user": {
      "displayName": "Viraj Thak",
      "userId": "05114723283592777529"
     },
     "user_tz": -330
    },
    "id": "740dbe33",
    "outputId": "8574a966-20ee-433a-fc0f-3a722e022533"
   },
   "outputs": [
    {
     "data": {
      "text/plain": [
       "0.0    229787\n",
       "1.0     23893\n",
       "Name: HeartDiseaseorAttack, dtype: int64"
      ]
     },
     "execution_count": 18,
     "metadata": {},
     "output_type": "execute_result"
    }
   ],
   "source": [
    "new_df['HeartDiseaseorAttack'].value_counts()"
   ]
  },
  {
   "cell_type": "code",
   "execution_count": 19,
   "id": "a153f49a",
   "metadata": {
    "executionInfo": {
     "elapsed": 7,
     "status": "ok",
     "timestamp": 1702536474949,
     "user": {
      "displayName": "Viraj Thak",
      "userId": "05114723283592777529"
     },
     "user_tz": -330
    },
    "id": "0cba80de"
   },
   "outputs": [],
   "source": [
    "def analysis(feature):\n",
    "    sns.set_style('darkgrid')\n",
    "    plt.figure(figsize=(8,6))\n",
    "    sns.distplot(new_df[feature])\n",
    "    plt.show()"
   ]
  },
  {
   "cell_type": "code",
   "execution_count": 20,
   "id": "38c2536a",
   "metadata": {
    "colab": {
     "base_uri": "https://localhost:8080/",
     "height": 542
    },
    "executionInfo": {
     "elapsed": 2092,
     "status": "ok",
     "timestamp": 1702536477035,
     "user": {
      "displayName": "Viraj Thak",
      "userId": "05114723283592777529"
     },
     "user_tz": -330
    },
    "id": "c16b4ba5",
    "outputId": "08538442-6183-4711-d043-96d46ccaa35f"
   },
   "outputs": [
    {
     "data": {
      "image/png": "[encoded data removed]",
      "text/plain": [
       "<Figure size 576x432 with 1 Axes>"
      ]
     },
     "metadata": {},
     "output_type": "display_data"
    }
   ],
   "source": [
    "analysis('Age')"
   ]
  },
  {
   "cell_type": "code",
   "execution_count": 21,
   "id": "4816cc49",
   "metadata": {
    "colab": {
     "base_uri": "https://localhost:8080/",
     "height": 542
    },
    "executionInfo": {
     "elapsed": 1937,
     "status": "ok",
     "timestamp": 1702536478955,
     "user": {
      "displayName": "Viraj Thak",
      "userId": "05114723283592777529"
     },
     "user_tz": -330
    },
    "id": "6ba66b67",
    "outputId": "d354c081-ddbc-4860-b364-6351450d52bd"
   },
   "outputs": [
    {
     "data": {
      "image/png": "[encoded data removed]",
      "text/plain": [
       "<Figure size 576x432 with 1 Axes>"
      ]
     },
     "metadata": {},
     "output_type": "display_data"
    }
   ],
   "source": [
    "analysis('BMI')"
   ]
  },
  {
   "cell_type": "code",
   "execution_count": 22,
   "id": "e2b2727c",
   "metadata": {
    "executionInfo": {
     "elapsed": 16,
     "status": "ok",
     "timestamp": 1702536478955,
     "user": {
      "displayName": "Viraj Thak",
      "userId": "05114723283592777529"
     },
     "user_tz": -330
    },
    "id": "1adf55ca"
   },
   "outputs": [],
   "source": [
    "data0=new_df[new_df['HeartDiseaseorAttack']==0.0]\n",
    "\n",
    "data1=new_df[new_df['HeartDiseaseorAttack']==1.0]"
   ]
  },
  {
   "cell_type": "code",
   "execution_count": 23,
   "id": "18497586",
   "metadata": {
    "colab": {
     "base_uri": "https://localhost:8080/",
     "height": 504
    },
    "executionInfo": {
     "elapsed": 2108,
     "status": "ok",
     "timestamp": 1702536481048,
     "user": {
      "displayName": "Viraj Thak",
      "userId": "05114723283592777529"
     },
     "user_tz": -330
    },
    "id": "8716514f",
    "outputId": "cbc36654-f622-4aa4-a1e3-b1c692f72908"
   },
   "outputs": [
    {
     "data": {
      "text/plain": [
       "Text(0.5, 1.0, 'disease')"
      ]
     },
     "execution_count": 23,
     "metadata": {},
     "output_type": "execute_result"
    },
    {
     "data": {
      "image/png": "[encoded data removed]",
      "text/plain": [
       "<Figure size 720x360 with 2 Axes>"
      ]
     },
     "metadata": {},
     "output_type": "display_data"
    }
   ],
   "source": [
    "fig,axes=plt.subplots(1,2,figsize=(10,5))\n",
    "\n",
    "sns.histplot(ax=axes[0],x=data0['Age'])\n",
    "sns.histplot(ax=axes[1],x=data1[\"Age\"])\n",
    "axes[0].set_title(\"no disease\")\n",
    "axes[1].set_title(\"disease\")"
   ]
  },
  {
   "cell_type": "code",
   "execution_count": 24,
   "id": "d1bc2de0",
   "metadata": {
    "colab": {
     "base_uri": "https://localhost:8080/",
     "height": 480
    },
    "executionInfo": {
     "elapsed": 25,
     "status": "ok",
     "timestamp": 1702536481049,
     "user": {
      "displayName": "Viraj Thak",
      "userId": "05114723283592777529"
     },
     "user_tz": -330
    },
    "id": "11322fd8",
    "outputId": "4dce11fa-3832-4eae-84bc-3d9468aa366e"
   },
   "outputs": [
    {
     "name": "stdout",
     "output_type": "stream",
     "text": [
      "1.0    13688\n",
      "0.0    10205\n",
      "Name: Sex, dtype: int64\n"
     ]
    },
    {
     "data": {
      "image/png": "[encoded data removed]",
      "text/plain": [
       "<Figure size 432x288 with 1 Axes>"
      ]
     },
     "metadata": {},
     "output_type": "display_data"
    }
   ],
   "source": [
    "print(data1['Sex'].value_counts())\n",
    "\n",
    "l=list((data1['Sex'].value_counts()))\n",
    "l\n",
    "\n",
    "plt.title('Proportion of male and female which are having heart disease')\n",
    "plt.pie(l,labels=['Male','Female'])\n",
    "\n",
    "\n",
    "plt.show()"
   ]
  },
  {
   "cell_type": "code",
   "execution_count": 25,
   "id": "77c2fbd4",
   "metadata": {
    "colab": {
     "base_uri": "https://localhost:8080/"
    },
    "executionInfo": {
     "elapsed": 23,
     "status": "ok",
     "timestamp": 1702536481049,
     "user": {
      "displayName": "Viraj Thak",
      "userId": "05114723283592777529"
     },
     "user_tz": -330
    },
    "id": "bbd0f160",
    "outputId": "9662e8e0-728e-427d-8b3e-d064a8fcc6b0"
   },
   "outputs": [
    {
     "name": "stdout",
     "output_type": "stream",
     "text": [
      "Feminine     141974\n",
      "Masculine    111706\n",
      "Name: Sex, dtype: int64\n"
     ]
    }
   ],
   "source": [
    "new_df['Sex'] = new_df['Sex'].map({1: 'Masculine', 0: 'Feminine'})\n",
    "count_gender = new_df['Sex'].value_counts()\n",
    "print(count_gender)"
   ]
  },
  {
   "cell_type": "code",
   "execution_count": 26,
   "id": "e8a7912f",
   "metadata": {
    "colab": {
     "base_uri": "https://localhost:8080/",
     "height": 675
    },
    "executionInfo": {
     "elapsed": 22,
     "status": "ok",
     "timestamp": 1702536481049,
     "user": {
      "displayName": "Viraj Thak",
      "userId": "05114723283592777529"
     },
     "user_tz": -330
    },
    "id": "63a14e31",
    "outputId": "0815cf56-1f22-4afc-fb5a-a9c47123bcc4"
   },
   "outputs": [
    {
     "data": {
      "image/png": "[encoded data removed]",
      "text/plain": [
       "<Figure size 576x576 with 1 Axes>"
      ]
     },
     "metadata": {},
     "output_type": "display_data"
    }
   ],
   "source": [
    "plt.figure(figsize=(8, 8))\n",
    "plt.pie(count_gender, labels=count_gender.index, autopct='%1.1f%%', colors=['#fcfdbf', '#fc8961'])\n",
    "plt.title('Proportion of Men and Women among Respodents')\n",
    "plt.show()"
   ]
  },
  {
   "cell_type": "code",
   "execution_count": 27,
   "id": "d370dc2f",
   "metadata": {
    "executionInfo": {
     "elapsed": 21,
     "status": "ok",
     "timestamp": 1702536481049,
     "user": {
      "displayName": "Viraj Thak",
      "userId": "05114723283592777529"
     },
     "user_tz": -330
    },
    "id": "2e0650ad"
   },
   "outputs": [],
   "source": [
    "mapping_age_ranges = {\n",
    "    1: '18-24',\n",
    "    2: '25-29',\n",
    "    3: '30-34',\n",
    "    4: '35-39',\n",
    "    5: '40-44',\n",
    "    6: '45-49',\n",
    "    7: '50-54',\n",
    "    8: '55-59',\n",
    "    9: '60-64',\n",
    "    10: '65-69',\n",
    "    11: '70-74',\n",
    "    12: '75-79',\n",
    "    13: '80 or above'\n",
    "}\n",
    "\n",
    "# Apply the mapping to the age column\n",
    "new_df['Age'] = new_df['Age'].map(mapping_age_ranges)"
   ]
  },
  {
   "cell_type": "code",
   "execution_count": 28,
   "id": "a4ddd68f",
   "metadata": {
    "executionInfo": {
     "elapsed": 22,
     "status": "ok",
     "timestamp": 1702536481050,
     "user": {
      "displayName": "Viraj Thak",
      "userId": "05114723283592777529"
     },
     "user_tz": -330
    },
    "id": "74c4140a"
   },
   "outputs": [],
   "source": [
    "age_order = ['18-24', '25-29', '30-34', '35-39', '40-44', '45-49', '50-54', '55-59', '60-64', '65-69', '70-74', '75-79', '80 or above']\n",
    "new_df['Age'] = pd.Categorical(new_df['Age'], categories=age_order, ordered=True)"
   ]
  },
  {
   "cell_type": "code",
   "execution_count": 29,
   "id": "5a61d409",
   "metadata": {
    "colab": {
     "base_uri": "https://localhost:8080/",
     "height": 619
    },
    "executionInfo": {
     "elapsed": 1165,
     "status": "ok",
     "timestamp": 1702536482193,
     "user": {
      "displayName": "Viraj Thak",
      "userId": "05114723283592777529"
     },
     "user_tz": -330
    },
    "id": "271ae728",
    "outputId": "44c09ae6-cb65-4984-9d0a-4fa7d7abd770"
   },
   "outputs": [
    {
     "data": {
      "image/png": "[encoded data removed]",
      "text/plain": [
       "<Figure size 1008x432 with 1 Axes>"
      ]
     },
     "metadata": {},
     "output_type": "display_data"
    }
   ],
   "source": [
    "#Plot bar chart for distribution by age group\n",
    "plt.figure(figsize=(14, 6))\n",
    "sns.countplot(x='Age', data=new_df, palette='rocket_r')\n",
    "#sns.palplot(sns.light_palette(\"red\"))\n",
    "plt.title('Distribution by Age group among Respodents')\n",
    "plt.ylabel('Number of Interviewees')\n",
    "plt.xlabel('Age Group')\n",
    "plt.xticks(rotation=45, ha='right')  # Rotation labels on the x-axis for better visualization\n",
    "plt.show()"
   ]
  },
  {
   "cell_type": "markdown",
   "id": "d153b2dc",
   "metadata": {
    "id": "95dd64a0"
   },
   "source": [
    "- We can infer from the above countplot that most of the person reswponded lies in the age group of 55 to 69"
   ]
  },
  {
   "cell_type": "markdown",
   "id": "150996e7",
   "metadata": {
    "id": "6a3330f5"
   },
   "source": [
    "## Bivariate Analysis"
   ]
  },
  {
   "cell_type": "code",
   "execution_count": 30,
   "id": "4b4f1329",
   "metadata": {
    "executionInfo": {
     "elapsed": 22,
     "status": "ok",
     "timestamp": 1702536482194,
     "user": {
      "displayName": "Viraj Thak",
      "userId": "05114723283592777529"
     },
     "user_tz": -330
    },
    "id": "a4517375"
   },
   "outputs": [],
   "source": [
    "corr = new_df.corr()"
   ]
  },
  {
   "cell_type": "code",
   "execution_count": 31,
   "id": "fdff9ea9",
   "metadata": {
    "colab": {
     "base_uri": "https://localhost:8080/",
     "height": 696
    },
    "executionInfo": {
     "elapsed": 23,
     "status": "ok",
     "timestamp": 1702536482195,
     "user": {
      "displayName": "Viraj Thak",
      "userId": "05114723283592777529"
     },
     "user_tz": -330
    },
    "id": "3d2ee19b",
    "outputId": "ddfe6592-502e-476b-bd38-0514b1701a37"
   },
   "outputs": [
    {
     "data": {
      "text/html": [
       "<div>\n",
       "<style scoped>\n",
       "    .dataframe tbody tr th:only-of-type {\n",
       "        vertical-align: middle;\n",
       "    }\n",
       "\n",
       "    .dataframe tbody tr th {\n",
       "        vertical-align: top;\n",
       "    }\n",
       "\n",
       "    .dataframe thead th {\n",
       "        text-align: right;\n",
       "    }\n",
       "</style>\n",
       "<table border=\"1\" class=\"dataframe\">\n",
       "  <thead>\n",
       "    <tr style=\"text-align: right;\">\n",
       "      <th></th>\n",
       "      <th>HeartDiseaseorAttack</th>\n",
       "      <th>HighBP</th>\n",
       "      <th>HighChol</th>\n",
       "      <th>CholCheck</th>\n",
       "      <th>BMI</th>\n",
       "      <th>Smoker</th>\n",
       "      <th>Stroke</th>\n",
       "      <th>Diabetes</th>\n",
       "      <th>PhysActivity</th>\n",
       "      <th>Fruits</th>\n",
       "      <th>Veggies</th>\n",
       "      <th>HvyAlcoholConsump</th>\n",
       "      <th>AnyHealthcare</th>\n",
       "      <th>NoDocbcCost</th>\n",
       "      <th>GenHlth</th>\n",
       "      <th>MentHlth</th>\n",
       "      <th>PhysHlth</th>\n",
       "      <th>DiffWalk</th>\n",
       "      <th>Education</th>\n",
       "      <th>Income</th>\n",
       "    </tr>\n",
       "  </thead>\n",
       "  <tbody>\n",
       "    <tr>\n",
       "      <th>HeartDiseaseorAttack</th>\n",
       "      <td>1.000000</td>\n",
       "      <td>0.209361</td>\n",
       "      <td>0.180765</td>\n",
       "      <td>0.044206</td>\n",
       "      <td>0.060194</td>\n",
       "      <td>0.114441</td>\n",
       "      <td>0.203002</td>\n",
       "      <td>0.180272</td>\n",
       "      <td>-0.087299</td>\n",
       "      <td>-0.019790</td>\n",
       "      <td>-0.039167</td>\n",
       "      <td>-0.028991</td>\n",
       "      <td>0.018734</td>\n",
       "      <td>0.031000</td>\n",
       "      <td>0.251740</td>\n",
       "      <td>0.041445</td>\n",
       "      <td>0.172531</td>\n",
       "      <td>0.212709</td>\n",
       "      <td>-0.099600</td>\n",
       "      <td>-0.141011</td>\n",
       "    </tr>\n",
       "    <tr>\n",
       "      <th>HighBP</th>\n",
       "      <td>0.209361</td>\n",
       "      <td>1.000000</td>\n",
       "      <td>0.298199</td>\n",
       "      <td>0.098508</td>\n",
       "      <td>0.237705</td>\n",
       "      <td>0.096991</td>\n",
       "      <td>0.129575</td>\n",
       "      <td>0.271596</td>\n",
       "      <td>-0.125267</td>\n",
       "      <td>-0.040555</td>\n",
       "      <td>-0.061266</td>\n",
       "      <td>-0.003972</td>\n",
       "      <td>0.038425</td>\n",
       "      <td>0.017358</td>\n",
       "      <td>0.303219</td>\n",
       "      <td>0.029407</td>\n",
       "      <td>0.163753</td>\n",
       "      <td>0.223618</td>\n",
       "      <td>-0.141358</td>\n",
       "      <td>-0.171235</td>\n",
       "    </tr>\n",
       "    <tr>\n",
       "      <th>HighChol</th>\n",
       "      <td>0.180765</td>\n",
       "      <td>0.298199</td>\n",
       "      <td>1.000000</td>\n",
       "      <td>0.085642</td>\n",
       "      <td>0.123490</td>\n",
       "      <td>0.091299</td>\n",
       "      <td>0.092620</td>\n",
       "      <td>0.209085</td>\n",
       "      <td>-0.078046</td>\n",
       "      <td>-0.040859</td>\n",
       "      <td>-0.039874</td>\n",
       "      <td>-0.011543</td>\n",
       "      <td>0.042230</td>\n",
       "      <td>0.013310</td>\n",
       "      <td>0.209545</td>\n",
       "      <td>0.047711</td>\n",
       "      <td>0.126711</td>\n",
       "      <td>0.144672</td>\n",
       "      <td>-0.070802</td>\n",
       "      <td>-0.085459</td>\n",
       "    </tr>\n",
       "    <tr>\n",
       "      <th>CholCheck</th>\n",
       "      <td>0.044206</td>\n",
       "      <td>0.098508</td>\n",
       "      <td>0.085642</td>\n",
       "      <td>1.000000</td>\n",
       "      <td>0.038550</td>\n",
       "      <td>-0.009929</td>\n",
       "      <td>0.024158</td>\n",
       "      <td>0.067546</td>\n",
       "      <td>0.004190</td>\n",
       "      <td>0.023849</td>\n",
       "      <td>0.006121</td>\n",
       "      <td>-0.023730</td>\n",
       "      <td>0.117626</td>\n",
       "      <td>-0.058255</td>\n",
       "      <td>0.046806</td>\n",
       "      <td>-0.012117</td>\n",
       "      <td>0.032631</td>\n",
       "      <td>0.040585</td>\n",
       "      <td>0.001510</td>\n",
       "      <td>0.014259</td>\n",
       "    </tr>\n",
       "    <tr>\n",
       "      <th>BMI</th>\n",
       "      <td>0.060194</td>\n",
       "      <td>0.237705</td>\n",
       "      <td>0.123490</td>\n",
       "      <td>0.038550</td>\n",
       "      <td>1.000000</td>\n",
       "      <td>0.018495</td>\n",
       "      <td>0.022091</td>\n",
       "      <td>0.243112</td>\n",
       "      <td>-0.152874</td>\n",
       "      <td>-0.094000</td>\n",
       "      <td>-0.067335</td>\n",
       "      <td>-0.052496</td>\n",
       "      <td>-0.016159</td>\n",
       "      <td>0.059182</td>\n",
       "      <td>0.259750</td>\n",
       "      <td>0.075095</td>\n",
       "      <td>0.131757</td>\n",
       "      <td>0.199067</td>\n",
       "      <td>-0.113968</td>\n",
       "      <td>-0.098983</td>\n",
       "    </tr>\n",
       "    <tr>\n",
       "      <th>Smoker</th>\n",
       "      <td>0.114441</td>\n",
       "      <td>0.096991</td>\n",
       "      <td>0.091299</td>\n",
       "      <td>-0.009929</td>\n",
       "      <td>0.018495</td>\n",
       "      <td>1.000000</td>\n",
       "      <td>0.061173</td>\n",
       "      <td>0.062914</td>\n",
       "      <td>-0.087401</td>\n",
       "      <td>-0.077666</td>\n",
       "      <td>-0.030678</td>\n",
       "      <td>0.101619</td>\n",
       "      <td>-0.023251</td>\n",
       "      <td>0.048946</td>\n",
       "      <td>0.161680</td>\n",
       "      <td>0.068664</td>\n",
       "      <td>0.106920</td>\n",
       "      <td>0.122463</td>\n",
       "      <td>-0.161955</td>\n",
       "      <td>-0.123937</td>\n",
       "    </tr>\n",
       "    <tr>\n",
       "      <th>Stroke</th>\n",
       "      <td>0.203002</td>\n",
       "      <td>0.129575</td>\n",
       "      <td>0.092620</td>\n",
       "      <td>0.024158</td>\n",
       "      <td>0.022091</td>\n",
       "      <td>0.061173</td>\n",
       "      <td>1.000000</td>\n",
       "      <td>0.107179</td>\n",
       "      <td>-0.069151</td>\n",
       "      <td>-0.013389</td>\n",
       "      <td>-0.041124</td>\n",
       "      <td>-0.016950</td>\n",
       "      <td>0.008776</td>\n",
       "      <td>0.034804</td>\n",
       "      <td>0.171798</td>\n",
       "      <td>0.053805</td>\n",
       "      <td>0.138643</td>\n",
       "      <td>0.176567</td>\n",
       "      <td>-0.076009</td>\n",
       "      <td>-0.128599</td>\n",
       "    </tr>\n",
       "    <tr>\n",
       "      <th>Diabetes</th>\n",
       "      <td>0.180272</td>\n",
       "      <td>0.271596</td>\n",
       "      <td>0.209085</td>\n",
       "      <td>0.067546</td>\n",
       "      <td>0.243112</td>\n",
       "      <td>0.062914</td>\n",
       "      <td>0.107179</td>\n",
       "      <td>1.000000</td>\n",
       "      <td>-0.121947</td>\n",
       "      <td>-0.042192</td>\n",
       "      <td>-0.058972</td>\n",
       "      <td>-0.057882</td>\n",
       "      <td>0.015410</td>\n",
       "      <td>0.035436</td>\n",
       "      <td>0.301443</td>\n",
       "      <td>0.050742</td>\n",
       "      <td>0.173818</td>\n",
       "      <td>0.224239</td>\n",
       "      <td>-0.130517</td>\n",
       "      <td>-0.171483</td>\n",
       "    </tr>\n",
       "    <tr>\n",
       "      <th>PhysActivity</th>\n",
       "      <td>-0.087299</td>\n",
       "      <td>-0.125267</td>\n",
       "      <td>-0.078046</td>\n",
       "      <td>0.004190</td>\n",
       "      <td>-0.152874</td>\n",
       "      <td>-0.087401</td>\n",
       "      <td>-0.069151</td>\n",
       "      <td>-0.121947</td>\n",
       "      <td>1.000000</td>\n",
       "      <td>0.142756</td>\n",
       "      <td>0.153150</td>\n",
       "      <td>0.012392</td>\n",
       "      <td>0.035505</td>\n",
       "      <td>-0.061638</td>\n",
       "      <td>-0.262473</td>\n",
       "      <td>-0.092600</td>\n",
       "      <td>-0.198693</td>\n",
       "      <td>-0.253174</td>\n",
       "      <td>0.199658</td>\n",
       "      <td>0.198539</td>\n",
       "    </tr>\n",
       "    <tr>\n",
       "      <th>Fruits</th>\n",
       "      <td>-0.019790</td>\n",
       "      <td>-0.040555</td>\n",
       "      <td>-0.040859</td>\n",
       "      <td>0.023849</td>\n",
       "      <td>-0.094000</td>\n",
       "      <td>-0.077666</td>\n",
       "      <td>-0.013389</td>\n",
       "      <td>-0.042192</td>\n",
       "      <td>0.142756</td>\n",
       "      <td>1.000000</td>\n",
       "      <td>0.254342</td>\n",
       "      <td>-0.035288</td>\n",
       "      <td>0.031544</td>\n",
       "      <td>-0.044243</td>\n",
       "      <td>-0.105088</td>\n",
       "      <td>-0.067372</td>\n",
       "      <td>-0.046299</td>\n",
       "      <td>-0.048352</td>\n",
       "      <td>0.110187</td>\n",
       "      <td>0.079929</td>\n",
       "    </tr>\n",
       "    <tr>\n",
       "      <th>Veggies</th>\n",
       "      <td>-0.039167</td>\n",
       "      <td>-0.061266</td>\n",
       "      <td>-0.039874</td>\n",
       "      <td>0.006121</td>\n",
       "      <td>-0.067335</td>\n",
       "      <td>-0.030678</td>\n",
       "      <td>-0.041124</td>\n",
       "      <td>-0.058972</td>\n",
       "      <td>0.153150</td>\n",
       "      <td>0.254342</td>\n",
       "      <td>1.000000</td>\n",
       "      <td>0.021064</td>\n",
       "      <td>0.029584</td>\n",
       "      <td>-0.032232</td>\n",
       "      <td>-0.123158</td>\n",
       "      <td>-0.046852</td>\n",
       "      <td>-0.060634</td>\n",
       "      <td>-0.080506</td>\n",
       "      <td>0.154329</td>\n",
       "      <td>0.151087</td>\n",
       "    </tr>\n",
       "    <tr>\n",
       "      <th>HvyAlcoholConsump</th>\n",
       "      <td>-0.028991</td>\n",
       "      <td>-0.003972</td>\n",
       "      <td>-0.011543</td>\n",
       "      <td>-0.023730</td>\n",
       "      <td>-0.052496</td>\n",
       "      <td>0.101619</td>\n",
       "      <td>-0.016950</td>\n",
       "      <td>-0.057882</td>\n",
       "      <td>0.012392</td>\n",
       "      <td>-0.035288</td>\n",
       "      <td>0.021064</td>\n",
       "      <td>1.000000</td>\n",
       "      <td>-0.010488</td>\n",
       "      <td>0.004684</td>\n",
       "      <td>-0.036299</td>\n",
       "      <td>0.033735</td>\n",
       "      <td>-0.027106</td>\n",
       "      <td>-0.037668</td>\n",
       "      <td>0.023997</td>\n",
       "      <td>0.053619</td>\n",
       "    </tr>\n",
       "    <tr>\n",
       "      <th>AnyHealthcare</th>\n",
       "      <td>0.018734</td>\n",
       "      <td>0.038425</td>\n",
       "      <td>0.042230</td>\n",
       "      <td>0.117626</td>\n",
       "      <td>-0.016159</td>\n",
       "      <td>-0.023251</td>\n",
       "      <td>0.008776</td>\n",
       "      <td>0.015410</td>\n",
       "      <td>0.035505</td>\n",
       "      <td>0.031544</td>\n",
       "      <td>0.029584</td>\n",
       "      <td>-0.010488</td>\n",
       "      <td>1.000000</td>\n",
       "      <td>-0.232532</td>\n",
       "      <td>-0.041122</td>\n",
       "      <td>-0.049281</td>\n",
       "      <td>-0.009882</td>\n",
       "      <td>0.007074</td>\n",
       "      <td>0.122514</td>\n",
       "      <td>0.157999</td>\n",
       "    </tr>\n",
       "    <tr>\n",
       "      <th>NoDocbcCost</th>\n",
       "      <td>0.031000</td>\n",
       "      <td>0.017358</td>\n",
       "      <td>0.013310</td>\n",
       "      <td>-0.058255</td>\n",
       "      <td>0.059182</td>\n",
       "      <td>0.048946</td>\n",
       "      <td>0.034804</td>\n",
       "      <td>0.035436</td>\n",
       "      <td>-0.061638</td>\n",
       "      <td>-0.044243</td>\n",
       "      <td>-0.032232</td>\n",
       "      <td>0.004684</td>\n",
       "      <td>-0.232532</td>\n",
       "      <td>1.000000</td>\n",
       "      <td>0.162862</td>\n",
       "      <td>0.185298</td>\n",
       "      <td>0.159288</td>\n",
       "      <td>0.118447</td>\n",
       "      <td>-0.100701</td>\n",
       "      <td>-0.203182</td>\n",
       "    </tr>\n",
       "    <tr>\n",
       "      <th>GenHlth</th>\n",
       "      <td>0.251740</td>\n",
       "      <td>0.303219</td>\n",
       "      <td>0.209545</td>\n",
       "      <td>0.046806</td>\n",
       "      <td>0.259750</td>\n",
       "      <td>0.161680</td>\n",
       "      <td>0.171798</td>\n",
       "      <td>0.301443</td>\n",
       "      <td>-0.262473</td>\n",
       "      <td>-0.105088</td>\n",
       "      <td>-0.123158</td>\n",
       "      <td>-0.036299</td>\n",
       "      <td>-0.041122</td>\n",
       "      <td>0.162862</td>\n",
       "      <td>1.000000</td>\n",
       "      <td>0.260560</td>\n",
       "      <td>0.497849</td>\n",
       "      <td>0.443593</td>\n",
       "      <td>-0.284250</td>\n",
       "      <td>-0.365559</td>\n",
       "    </tr>\n",
       "    <tr>\n",
       "      <th>MentHlth</th>\n",
       "      <td>0.041445</td>\n",
       "      <td>0.029407</td>\n",
       "      <td>0.047711</td>\n",
       "      <td>-0.012117</td>\n",
       "      <td>0.075095</td>\n",
       "      <td>0.068664</td>\n",
       "      <td>0.053805</td>\n",
       "      <td>0.050742</td>\n",
       "      <td>-0.092600</td>\n",
       "      <td>-0.067372</td>\n",
       "      <td>-0.046852</td>\n",
       "      <td>0.033735</td>\n",
       "      <td>-0.049281</td>\n",
       "      <td>0.185298</td>\n",
       "      <td>0.260560</td>\n",
       "      <td>1.000000</td>\n",
       "      <td>0.313475</td>\n",
       "      <td>0.198077</td>\n",
       "      <td>-0.066287</td>\n",
       "      <td>-0.172594</td>\n",
       "    </tr>\n",
       "    <tr>\n",
       "      <th>PhysHlth</th>\n",
       "      <td>0.172531</td>\n",
       "      <td>0.163753</td>\n",
       "      <td>0.126711</td>\n",
       "      <td>0.032631</td>\n",
       "      <td>0.131757</td>\n",
       "      <td>0.106920</td>\n",
       "      <td>0.138643</td>\n",
       "      <td>0.173818</td>\n",
       "      <td>-0.198693</td>\n",
       "      <td>-0.046299</td>\n",
       "      <td>-0.060634</td>\n",
       "      <td>-0.027106</td>\n",
       "      <td>-0.009882</td>\n",
       "      <td>0.159288</td>\n",
       "      <td>0.497849</td>\n",
       "      <td>0.313475</td>\n",
       "      <td>1.000000</td>\n",
       "      <td>0.450279</td>\n",
       "      <td>-0.144382</td>\n",
       "      <td>-0.259282</td>\n",
       "    </tr>\n",
       "    <tr>\n",
       "      <th>DiffWalk</th>\n",
       "      <td>0.212709</td>\n",
       "      <td>0.223618</td>\n",
       "      <td>0.144672</td>\n",
       "      <td>0.040585</td>\n",
       "      <td>0.199067</td>\n",
       "      <td>0.122463</td>\n",
       "      <td>0.176567</td>\n",
       "      <td>0.224239</td>\n",
       "      <td>-0.253174</td>\n",
       "      <td>-0.048352</td>\n",
       "      <td>-0.080506</td>\n",
       "      <td>-0.037668</td>\n",
       "      <td>0.007074</td>\n",
       "      <td>0.118447</td>\n",
       "      <td>0.443593</td>\n",
       "      <td>0.198077</td>\n",
       "      <td>0.450279</td>\n",
       "      <td>1.000000</td>\n",
       "      <td>-0.192642</td>\n",
       "      <td>-0.320124</td>\n",
       "    </tr>\n",
       "    <tr>\n",
       "      <th>Education</th>\n",
       "      <td>-0.099600</td>\n",
       "      <td>-0.141358</td>\n",
       "      <td>-0.070802</td>\n",
       "      <td>0.001510</td>\n",
       "      <td>-0.113968</td>\n",
       "      <td>-0.161955</td>\n",
       "      <td>-0.076009</td>\n",
       "      <td>-0.130517</td>\n",
       "      <td>0.199658</td>\n",
       "      <td>0.110187</td>\n",
       "      <td>0.154329</td>\n",
       "      <td>0.023997</td>\n",
       "      <td>0.122514</td>\n",
       "      <td>-0.100701</td>\n",
       "      <td>-0.284250</td>\n",
       "      <td>-0.066287</td>\n",
       "      <td>-0.144382</td>\n",
       "      <td>-0.192642</td>\n",
       "      <td>1.000000</td>\n",
       "      <td>0.449106</td>\n",
       "    </tr>\n",
       "    <tr>\n",
       "      <th>Income</th>\n",
       "      <td>-0.141011</td>\n",
       "      <td>-0.171235</td>\n",
       "      <td>-0.085459</td>\n",
       "      <td>0.014259</td>\n",
       "      <td>-0.098983</td>\n",
       "      <td>-0.123937</td>\n",
       "      <td>-0.128599</td>\n",
       "      <td>-0.171483</td>\n",
       "      <td>0.198539</td>\n",
       "      <td>0.079929</td>\n",
       "      <td>0.151087</td>\n",
       "      <td>0.053619</td>\n",
       "      <td>0.157999</td>\n",
       "      <td>-0.203182</td>\n",
       "      <td>-0.365559</td>\n",
       "      <td>-0.172594</td>\n",
       "      <td>-0.259282</td>\n",
       "      <td>-0.320124</td>\n",
       "      <td>0.449106</td>\n",
       "      <td>1.000000</td>\n",
       "    </tr>\n",
       "  </tbody>\n",
       "</table>\n",
       "</div>"
      ],
      "text/plain": [
       "                      HeartDiseaseorAttack    HighBP  HighChol  CholCheck  \\\n",
       "HeartDiseaseorAttack              1.000000  0.209361  0.180765   0.044206   \n",
       "HighBP                            0.209361  1.000000  0.298199   0.098508   \n",
       "HighChol                          0.180765  0.298199  1.000000   0.085642   \n",
       "CholCheck                         0.044206  0.098508  0.085642   1.000000   \n",
       "BMI                               0.060194  0.237705  0.123490   0.038550   \n",
       "Smoker                            0.114441  0.096991  0.091299  -0.009929   \n",
       "Stroke                            0.203002  0.129575  0.092620   0.024158   \n",
       "Diabetes                          0.180272  0.271596  0.209085   0.067546   \n",
       "PhysActivity                     -0.087299 -0.125267 -0.078046   0.004190   \n",
       "Fruits                           -0.019790 -0.040555 -0.040859   0.023849   \n",
       "Veggies                          -0.039167 -0.061266 -0.039874   0.006121   \n",
       "HvyAlcoholConsump                -0.028991 -0.003972 -0.011543  -0.023730   \n",
       "AnyHealthcare                     0.018734  0.038425  0.042230   0.117626   \n",
       "NoDocbcCost                       0.031000  0.017358  0.013310  -0.058255   \n",
       "GenHlth                           0.251740  0.303219  0.209545   0.046806   \n",
       "MentHlth                          0.041445  0.029407  0.047711  -0.012117   \n",
       "PhysHlth                          0.172531  0.163753  0.126711   0.032631   \n",
       "DiffWalk                          0.212709  0.223618  0.144672   0.040585   \n",
       "Education                        -0.099600 -0.141358 -0.070802   0.001510   \n",
       "Income                           -0.141011 -0.171235 -0.085459   0.014259   \n",
       "\n",
       "                           BMI    Smoker    Stroke  Diabetes  PhysActivity  \\\n",
       "HeartDiseaseorAttack  0.060194  0.114441  0.203002  0.180272     -0.087299   \n",
       "HighBP                0.237705  0.096991  0.129575  0.271596     -0.125267   \n",
       "HighChol              0.123490  0.091299  0.092620  0.209085     -0.078046   \n",
       "CholCheck             0.038550 -0.009929  0.024158  0.067546      0.004190   \n",
       "BMI                   1.000000  0.018495  0.022091  0.243112     -0.152874   \n",
       "Smoker                0.018495  1.000000  0.061173  0.062914     -0.087401   \n",
       "Stroke                0.022091  0.061173  1.000000  0.107179     -0.069151   \n",
       "Diabetes              0.243112  0.062914  0.107179  1.000000     -0.121947   \n",
       "PhysActivity         -0.152874 -0.087401 -0.069151 -0.121947      1.000000   \n",
       "Fruits               -0.094000 -0.077666 -0.013389 -0.042192      0.142756   \n",
       "Veggies              -0.067335 -0.030678 -0.041124 -0.058972      0.153150   \n",
       "HvyAlcoholConsump    -0.052496  0.101619 -0.016950 -0.057882      0.012392   \n",
       "AnyHealthcare        -0.016159 -0.023251  0.008776  0.015410      0.035505   \n",
       "NoDocbcCost           0.059182  0.048946  0.034804  0.035436     -0.061638   \n",
       "GenHlth               0.259750  0.161680  0.171798  0.301443     -0.262473   \n",
       "MentHlth              0.075095  0.068664  0.053805  0.050742     -0.092600   \n",
       "PhysHlth              0.131757  0.106920  0.138643  0.173818     -0.198693   \n",
       "DiffWalk              0.199067  0.122463  0.176567  0.224239     -0.253174   \n",
       "Education            -0.113968 -0.161955 -0.076009 -0.130517      0.199658   \n",
       "Income               -0.098983 -0.123937 -0.128599 -0.171483      0.198539   \n",
       "\n",
       "                        Fruits   Veggies  HvyAlcoholConsump  AnyHealthcare  \\\n",
       "HeartDiseaseorAttack -0.019790 -0.039167          -0.028991       0.018734   \n",
       "HighBP               -0.040555 -0.061266          -0.003972       0.038425   \n",
       "HighChol             -0.040859 -0.039874          -0.011543       0.042230   \n",
       "CholCheck             0.023849  0.006121          -0.023730       0.117626   \n",
       "BMI                  -0.094000 -0.067335          -0.052496      -0.016159   \n",
       "Smoker               -0.077666 -0.030678           0.101619      -0.023251   \n",
       "Stroke               -0.013389 -0.041124          -0.016950       0.008776   \n",
       "Diabetes             -0.042192 -0.058972          -0.057882       0.015410   \n",
       "PhysActivity          0.142756  0.153150           0.012392       0.035505   \n",
       "Fruits                1.000000  0.254342          -0.035288       0.031544   \n",
       "Veggies               0.254342  1.000000           0.021064       0.029584   \n",
       "HvyAlcoholConsump    -0.035288  0.021064           1.000000      -0.010488   \n",
       "AnyHealthcare         0.031544  0.029584          -0.010488       1.000000   \n",
       "NoDocbcCost          -0.044243 -0.032232           0.004684      -0.232532   \n",
       "GenHlth              -0.105088 -0.123158          -0.036299      -0.041122   \n",
       "MentHlth             -0.067372 -0.046852           0.033735      -0.049281   \n",
       "PhysHlth             -0.046299 -0.060634          -0.027106      -0.009882   \n",
       "DiffWalk             -0.048352 -0.080506          -0.037668       0.007074   \n",
       "Education             0.110187  0.154329           0.023997       0.122514   \n",
       "Income                0.079929  0.151087           0.053619       0.157999   \n",
       "\n",
       "                      NoDocbcCost   GenHlth  MentHlth  PhysHlth  DiffWalk  \\\n",
       "HeartDiseaseorAttack     0.031000  0.251740  0.041445  0.172531  0.212709   \n",
       "HighBP                   0.017358  0.303219  0.029407  0.163753  0.223618   \n",
       "HighChol                 0.013310  0.209545  0.047711  0.126711  0.144672   \n",
       "CholCheck               -0.058255  0.046806 -0.012117  0.032631  0.040585   \n",
       "BMI                      0.059182  0.259750  0.075095  0.131757  0.199067   \n",
       "Smoker                   0.048946  0.161680  0.068664  0.106920  0.122463   \n",
       "Stroke                   0.034804  0.171798  0.053805  0.138643  0.176567   \n",
       "Diabetes                 0.035436  0.301443  0.050742  0.173818  0.224239   \n",
       "PhysActivity            -0.061638 -0.262473 -0.092600 -0.198693 -0.253174   \n",
       "Fruits                  -0.044243 -0.105088 -0.067372 -0.046299 -0.048352   \n",
       "Veggies                 -0.032232 -0.123158 -0.046852 -0.060634 -0.080506   \n",
       "HvyAlcoholConsump        0.004684 -0.036299  0.033735 -0.027106 -0.037668   \n",
       "AnyHealthcare           -0.232532 -0.041122 -0.049281 -0.009882  0.007074   \n",
       "NoDocbcCost              1.000000  0.162862  0.185298  0.159288  0.118447   \n",
       "GenHlth                  0.162862  1.000000  0.260560  0.497849  0.443593   \n",
       "MentHlth                 0.185298  0.260560  1.000000  0.313475  0.198077   \n",
       "PhysHlth                 0.159288  0.497849  0.313475  1.000000  0.450279   \n",
       "DiffWalk                 0.118447  0.443593  0.198077  0.450279  1.000000   \n",
       "Education               -0.100701 -0.284250 -0.066287 -0.144382 -0.192642   \n",
       "Income                  -0.203182 -0.365559 -0.172594 -0.259282 -0.320124   \n",
       "\n",
       "                      Education    Income  \n",
       "HeartDiseaseorAttack  -0.099600 -0.141011  \n",
       "HighBP                -0.141358 -0.171235  \n",
       "HighChol              -0.070802 -0.085459  \n",
       "CholCheck              0.001510  0.014259  \n",
       "BMI                   -0.113968 -0.098983  \n",
       "Smoker                -0.161955 -0.123937  \n",
       "Stroke                -0.076009 -0.128599  \n",
       "Diabetes              -0.130517 -0.171483  \n",
       "PhysActivity           0.199658  0.198539  \n",
       "Fruits                 0.110187  0.079929  \n",
       "Veggies                0.154329  0.151087  \n",
       "HvyAlcoholConsump      0.023997  0.053619  \n",
       "AnyHealthcare          0.122514  0.157999  \n",
       "NoDocbcCost           -0.100701 -0.203182  \n",
       "GenHlth               -0.284250 -0.365559  \n",
       "MentHlth              -0.066287 -0.172594  \n",
       "PhysHlth              -0.144382 -0.259282  \n",
       "DiffWalk              -0.192642 -0.320124  \n",
       "Education              1.000000  0.449106  \n",
       "Income                 0.449106  1.000000  "
      ]
     },
     "execution_count": 31,
     "metadata": {},
     "output_type": "execute_result"
    }
   ],
   "source": [
    "corr"
   ]
  },
  {
   "cell_type": "code",
   "execution_count": 32,
   "id": "f69ab8a6",
   "metadata": {
    "colab": {
     "base_uri": "https://localhost:8080/",
     "height": 1000
    },
    "executionInfo": {
     "elapsed": 2635,
     "status": "ok",
     "timestamp": 1702536484808,
     "user": {
      "displayName": "Viraj Thak",
      "userId": "05114723283592777529"
     },
     "user_tz": -330
    },
    "id": "d0067251",
    "outputId": "909feee7-b460-453f-f095-8acbd379c097"
   },
   "outputs": [
    {
     "data": {
      "text/plain": [
       "<AxesSubplot:>"
      ]
     },
     "execution_count": 32,
     "metadata": {},
     "output_type": "execute_result"
    },
    {
     "data": {
      "image/png": "[encoded data removed]",
      "text/plain": [
       "<Figure size 1440x1296 with 2 Axes>"
      ]
     },
     "metadata": {},
     "output_type": "display_data"
    }
   ],
   "source": [
    "plt.figure(figsize=(20,18))\n",
    "sns.heatmap(corr, xticklabels = corr.columns, yticklabels = corr.columns, annot = True)"
   ]
  },
  {
   "cell_type": "markdown",
   "id": "c6662228",
   "metadata": {
    "id": "3825982e"
   },
   "source": [
    "1. From the above HeatMap we can infer that the people having HighBP and HighChol are more susceptible to Heart Diseases.\n",
    "2. Also General Health of the individual affects the heart conditioning.\n",
    "3. We assume from the above HeatMap that Bad Mental health negatively affects the heart problems."
   ]
  },
  {
   "cell_type": "markdown",
   "id": "53316917",
   "metadata": {
    "id": "9f47d82f"
   },
   "source": [
    "# Feature Engineering"
   ]
  },
  {
   "cell_type": "markdown",
   "id": "38eaf643",
   "metadata": {
    "id": "0ce9644f"
   },
   "source": [
    "#### Encoding the categorical data"
   ]
  },
  {
   "cell_type": "code",
   "execution_count": 33,
   "id": "6014ab47",
   "metadata": {
    "colab": {
     "base_uri": "https://localhost:8080/"
    },
    "executionInfo": {
     "elapsed": 19,
     "status": "ok",
     "timestamp": 1702536484809,
     "user": {
      "displayName": "Viraj Thak",
      "userId": "05114723283592777529"
     },
     "user_tz": -330
    },
    "id": "2ae6a71d",
    "outputId": "6df650c7-84b4-43cd-e109-492f069f5195"
   },
   "outputs": [
    {
     "name": "stdout",
     "output_type": "stream",
     "text": [
      "Index(['HeartDiseaseorAttack', 'HighBP', 'HighChol', 'CholCheck', 'BMI',\n",
      "       'Smoker', 'Stroke', 'Diabetes', 'PhysActivity', 'Fruits', 'Veggies',\n",
      "       'HvyAlcoholConsump', 'AnyHealthcare', 'NoDocbcCost', 'GenHlth',\n",
      "       'MentHlth', 'PhysHlth', 'DiffWalk', 'Education', 'Income',\n",
      "       'Sex_Feminine', 'Sex_Masculine', 'Age_18-24', 'Age_25-29', 'Age_30-34',\n",
      "       'Age_35-39', 'Age_40-44', 'Age_45-49', 'Age_50-54', 'Age_55-59',\n",
      "       'Age_60-64', 'Age_65-69', 'Age_70-74', 'Age_75-79', 'Age_80 or above'],\n",
      "      dtype='object')\n"
     ]
    }
   ],
   "source": [
    "# encoding categorical values\n",
    "cat_features = [\"Sex\", \"Age\"]\n",
    "new_df = pd.get_dummies(new_df, columns = cat_features)\n",
    "print(new_df.columns)"
   ]
  },
  {
   "cell_type": "code",
   "execution_count": 34,
   "id": "0b4d438b",
   "metadata": {
    "colab": {
     "base_uri": "https://localhost:8080/",
     "height": 290
    },
    "executionInfo": {
     "elapsed": 17,
     "status": "ok",
     "timestamp": 1702536484809,
     "user": {
      "displayName": "Viraj Thak",
      "userId": "05114723283592777529"
     },
     "user_tz": -330
    },
    "id": "607e93a8",
    "outputId": "9ccde590-b5ce-411f-ea23-41d63f8e2ad0"
   },
   "outputs": [
    {
     "data": {
      "text/html": [
       "<div>\n",
       "<style scoped>\n",
       "    .dataframe tbody tr th:only-of-type {\n",
       "        vertical-align: middle;\n",
       "    }\n",
       "\n",
       "    .dataframe tbody tr th {\n",
       "        vertical-align: top;\n",
       "    }\n",
       "\n",
       "    .dataframe thead th {\n",
       "        text-align: right;\n",
       "    }\n",
       "</style>\n",
       "<table border=\"1\" class=\"dataframe\">\n",
       "  <thead>\n",
       "    <tr style=\"text-align: right;\">\n",
       "      <th></th>\n",
       "      <th>HeartDiseaseorAttack</th>\n",
       "      <th>HighBP</th>\n",
       "      <th>HighChol</th>\n",
       "      <th>CholCheck</th>\n",
       "      <th>BMI</th>\n",
       "      <th>Smoker</th>\n",
       "      <th>Stroke</th>\n",
       "      <th>Diabetes</th>\n",
       "      <th>PhysActivity</th>\n",
       "      <th>Fruits</th>\n",
       "      <th>...</th>\n",
       "      <th>Age_35-39</th>\n",
       "      <th>Age_40-44</th>\n",
       "      <th>Age_45-49</th>\n",
       "      <th>Age_50-54</th>\n",
       "      <th>Age_55-59</th>\n",
       "      <th>Age_60-64</th>\n",
       "      <th>Age_65-69</th>\n",
       "      <th>Age_70-74</th>\n",
       "      <th>Age_75-79</th>\n",
       "      <th>Age_80 or above</th>\n",
       "    </tr>\n",
       "  </thead>\n",
       "  <tbody>\n",
       "    <tr>\n",
       "      <th>0</th>\n",
       "      <td>0.0</td>\n",
       "      <td>1.0</td>\n",
       "      <td>1.0</td>\n",
       "      <td>1.0</td>\n",
       "      <td>40.0</td>\n",
       "      <td>1.0</td>\n",
       "      <td>0.0</td>\n",
       "      <td>0.0</td>\n",
       "      <td>0.0</td>\n",
       "      <td>0.0</td>\n",
       "      <td>...</td>\n",
       "      <td>0</td>\n",
       "      <td>0</td>\n",
       "      <td>0</td>\n",
       "      <td>0</td>\n",
       "      <td>0</td>\n",
       "      <td>1</td>\n",
       "      <td>0</td>\n",
       "      <td>0</td>\n",
       "      <td>0</td>\n",
       "      <td>0</td>\n",
       "    </tr>\n",
       "    <tr>\n",
       "      <th>1</th>\n",
       "      <td>0.0</td>\n",
       "      <td>0.0</td>\n",
       "      <td>0.0</td>\n",
       "      <td>0.0</td>\n",
       "      <td>25.0</td>\n",
       "      <td>1.0</td>\n",
       "      <td>0.0</td>\n",
       "      <td>0.0</td>\n",
       "      <td>1.0</td>\n",
       "      <td>0.0</td>\n",
       "      <td>...</td>\n",
       "      <td>0</td>\n",
       "      <td>0</td>\n",
       "      <td>0</td>\n",
       "      <td>1</td>\n",
       "      <td>0</td>\n",
       "      <td>0</td>\n",
       "      <td>0</td>\n",
       "      <td>0</td>\n",
       "      <td>0</td>\n",
       "      <td>0</td>\n",
       "    </tr>\n",
       "    <tr>\n",
       "      <th>2</th>\n",
       "      <td>0.0</td>\n",
       "      <td>1.0</td>\n",
       "      <td>1.0</td>\n",
       "      <td>1.0</td>\n",
       "      <td>28.0</td>\n",
       "      <td>0.0</td>\n",
       "      <td>0.0</td>\n",
       "      <td>0.0</td>\n",
       "      <td>0.0</td>\n",
       "      <td>1.0</td>\n",
       "      <td>...</td>\n",
       "      <td>0</td>\n",
       "      <td>0</td>\n",
       "      <td>0</td>\n",
       "      <td>0</td>\n",
       "      <td>0</td>\n",
       "      <td>1</td>\n",
       "      <td>0</td>\n",
       "      <td>0</td>\n",
       "      <td>0</td>\n",
       "      <td>0</td>\n",
       "    </tr>\n",
       "    <tr>\n",
       "      <th>3</th>\n",
       "      <td>0.0</td>\n",
       "      <td>1.0</td>\n",
       "      <td>0.0</td>\n",
       "      <td>1.0</td>\n",
       "      <td>27.0</td>\n",
       "      <td>0.0</td>\n",
       "      <td>0.0</td>\n",
       "      <td>0.0</td>\n",
       "      <td>1.0</td>\n",
       "      <td>1.0</td>\n",
       "      <td>...</td>\n",
       "      <td>0</td>\n",
       "      <td>0</td>\n",
       "      <td>0</td>\n",
       "      <td>0</td>\n",
       "      <td>0</td>\n",
       "      <td>0</td>\n",
       "      <td>0</td>\n",
       "      <td>1</td>\n",
       "      <td>0</td>\n",
       "      <td>0</td>\n",
       "    </tr>\n",
       "    <tr>\n",
       "      <th>4</th>\n",
       "      <td>0.0</td>\n",
       "      <td>1.0</td>\n",
       "      <td>1.0</td>\n",
       "      <td>1.0</td>\n",
       "      <td>24.0</td>\n",
       "      <td>0.0</td>\n",
       "      <td>0.0</td>\n",
       "      <td>0.0</td>\n",
       "      <td>1.0</td>\n",
       "      <td>1.0</td>\n",
       "      <td>...</td>\n",
       "      <td>0</td>\n",
       "      <td>0</td>\n",
       "      <td>0</td>\n",
       "      <td>0</td>\n",
       "      <td>0</td>\n",
       "      <td>0</td>\n",
       "      <td>0</td>\n",
       "      <td>1</td>\n",
       "      <td>0</td>\n",
       "      <td>0</td>\n",
       "    </tr>\n",
       "  </tbody>\n",
       "</table>\n",
       "<p>5 rows × 35 columns</p>\n",
       "</div>"
      ],
      "text/plain": [
       "   HeartDiseaseorAttack  HighBP  HighChol  CholCheck   BMI  Smoker  Stroke  \\\n",
       "0                   0.0     1.0       1.0        1.0  40.0     1.0     0.0   \n",
       "1                   0.0     0.0       0.0        0.0  25.0     1.0     0.0   \n",
       "2                   0.0     1.0       1.0        1.0  28.0     0.0     0.0   \n",
       "3                   0.0     1.0       0.0        1.0  27.0     0.0     0.0   \n",
       "4                   0.0     1.0       1.0        1.0  24.0     0.0     0.0   \n",
       "\n",
       "   Diabetes  PhysActivity  Fruits  ...  Age_35-39  Age_40-44  Age_45-49  \\\n",
       "0       0.0           0.0     0.0  ...          0          0          0   \n",
       "1       0.0           1.0     0.0  ...          0          0          0   \n",
       "2       0.0           0.0     1.0  ...          0          0          0   \n",
       "3       0.0           1.0     1.0  ...          0          0          0   \n",
       "4       0.0           1.0     1.0  ...          0          0          0   \n",
       "\n",
       "   Age_50-54  Age_55-59  Age_60-64  Age_65-69  Age_70-74  Age_75-79  \\\n",
       "0          0          0          1          0          0          0   \n",
       "1          1          0          0          0          0          0   \n",
       "2          0          0          1          0          0          0   \n",
       "3          0          0          0          0          1          0   \n",
       "4          0          0          0          0          1          0   \n",
       "\n",
       "   Age_80 or above  \n",
       "0                0  \n",
       "1                0  \n",
       "2                0  \n",
       "3                0  \n",
       "4                0  \n",
       "\n",
       "[5 rows x 35 columns]"
      ]
     },
     "execution_count": 34,
     "metadata": {},
     "output_type": "execute_result"
    }
   ],
   "source": [
    "new_df.head()"
   ]
  },
  {
   "cell_type": "markdown",
   "id": "fc8dea96",
   "metadata": {
    "id": "e0b1a9b0"
   },
   "source": [
    "# Model Building"
   ]
  },
  {
   "cell_type": "code",
   "execution_count": 43,
   "id": "27f433ec",
   "metadata": {},
   "outputs": [],
   "source": [
    "target = new_df['HeartDiseaseorAttack']\n",
    "train = new_df.drop('HeartDiseaseorAttack', axis=1)"
   ]
  },
  {
   "cell_type": "code",
   "execution_count": 44,
   "id": "ccd57618",
   "metadata": {},
   "outputs": [],
   "source": [
    "# Split data into train and test\n",
    "from sklearn.model_selection import train_test_split\n",
    "x_train, x_test, y_train, y_test = train_test_split(train, target, test_size=0.2, random_state=20)"
   ]
  },
  {
   "cell_type": "code",
   "execution_count": 45,
   "id": "d8bec413",
   "metadata": {},
   "outputs": [],
   "source": [
    "from sklearn.linear_model import LogisticRegression\n",
    "lreg = LogisticRegression()"
   ]
  },
  {
   "cell_type": "code",
   "execution_count": 46,
   "id": "a1e28274",
   "metadata": {},
   "outputs": [
    {
     "data": {
      "text/plain": [
       "LogisticRegression()"
      ]
     },
     "execution_count": 46,
     "metadata": {},
     "output_type": "execute_result"
    }
   ],
   "source": [
    "lreg.fit(x_train, y_train)"
   ]
  },
  {
   "cell_type": "code",
   "execution_count": 47,
   "id": "c647e772",
   "metadata": {},
   "outputs": [
    {
     "data": {
      "text/plain": [
       "0.9084673604541155"
      ]
     },
     "execution_count": 47,
     "metadata": {},
     "output_type": "execute_result"
    }
   ],
   "source": [
    "prediction = lreg.predict(x_test)\n",
    "accuracy_score(y_test, prediction)"
   ]
  },
  {
   "cell_type": "code",
   "execution_count": 48,
   "id": "85d61bde",
   "metadata": {},
   "outputs": [
    {
     "data": {
      "text/plain": [
       "LogisticRegression(C=10)"
      ]
     },
     "execution_count": 48,
     "metadata": {},
     "output_type": "execute_result"
    }
   ],
   "source": [
    "from sklearn.linear_model import LogisticRegression\n",
    "from sklearn.model_selection import GridSearchCV\n",
    "\n",
    "# Define the logistic regression model\n",
    "lreg = LogisticRegression()\n",
    "\n",
    "# Define the parameter grid to search\n",
    "param_grid = {\n",
    "    'C': [0.1, 1, 10],  # values for regularization parameter C\n",
    "    'penalty': ['l1', 'l2']  # types of regularization penalties to try\n",
    "}\n",
    "\n",
    "# Perform Grid Search with cross-validation\n",
    "grid_search = GridSearchCV(lreg, param_grid, cv=5, scoring='accuracy')\n",
    "grid_search.fit(x_train, y_train)\n",
    "\n",
    "# Get the best parameters\n",
    "best_params = grid_search.best_params_\n",
    "\n",
    "# Train logistic regression with the best parameters\n",
    "best_lreg = LogisticRegression(**best_params)\n",
    "best_lreg.fit(x_train, y_train)"
   ]
  },
  {
   "cell_type": "code",
   "execution_count": null,
   "id": "e88c75dc",
   "metadata": {},
   "outputs": [],
   "source": []
  }
 ],
 "metadata": {
  "colab": {
   "name": "",
   "version": ""
  },
  "kernelspec": {
   "display_name": "Python 3 (ipykernel)",
   "language": "python",
   "name": "python3"
  },
  "language_info": {
   "codemirror_mode": {
    "name": "ipython",
    "version": 3
   },
   "file_extension": ".py",
   "mimetype": "text/x-python",
   "name": "python",
   "nbconvert_exporter": "python",
   "pygments_lexer": "ipython3",
   "version": "3.9.7"
  }
 },
 "nbformat": 4,
 "nbformat_minor": 5
}
